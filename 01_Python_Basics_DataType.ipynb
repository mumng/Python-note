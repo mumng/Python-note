{
  "nbformat": 4,
  "nbformat_minor": 0,
  "metadata": {
    "colab": {
      "provenance": [],
      "authorship_tag": "ABX9TyMtWH8S5qzp0GBQpOBN1Yyd",
      "include_colab_link": true
    },
    "kernelspec": {
      "name": "python3",
      "display_name": "Python 3"
    },
    "language_info": {
      "name": "python"
    }
  },
  "cells": [
    {
      "cell_type": "markdown",
      "metadata": {
        "id": "view-in-github",
        "colab_type": "text"
      },
      "source": [
        "<a href=\"https://colab.research.google.com/github/mumng/Python-note/blob/master/01_Python_Basics_DataType.ipynb\" target=\"_parent\"><img src=\"https://colab.research.google.com/assets/colab-badge.svg\" alt=\"Open In Colab\"/></a>"
      ]
    },
    {
      "cell_type": "markdown",
      "source": [
        "## 파이썬 자료형 (Data Type)\n",
        "- 숫자형 (number)\n",
        "- 문자형 (str)\n",
        "- 리스트형 List\n",
        "- 튜플형(Tuple), 딕셔너리형(Dict), 집합형(Set)\n",
        "- 불형(Boolean)"
      ],
      "metadata": {
        "id": "yZFJoIHnux0M"
      }
    },
    {
      "cell_type": "code",
      "source": [
        "# 1. 숫자형\n",
        "a = 1\n",
        "b = 1\n",
        "\n",
        "# 사칙연산\n",
        "a + b\n",
        "a - b\n",
        "a * b\n",
        "a / b"
      ],
      "metadata": {
        "colab": {
          "base_uri": "https://localhost:8080/"
        },
        "id": "9EV4WqnwvqT5",
        "outputId": "e1da0dd0-696f-48c6-a2da-e92cacb71172"
      },
      "execution_count": null,
      "outputs": [
        {
          "output_type": "execute_result",
          "data": {
            "text/plain": [
              "1.0"
            ]
          },
          "metadata": {},
          "execution_count": 1
        }
      ]
    },
    {
      "cell_type": "code",
      "source": [
        "# 실수\n",
        "a = 1.0\n",
        "b = -3.5\n",
        "\n",
        "a * b"
      ],
      "metadata": {
        "colab": {
          "base_uri": "https://localhost:8080/"
        },
        "id": "1rd-mmz8vyzz",
        "outputId": "eb06e930-0c72-4a13-dc16-e070b79212ed"
      },
      "execution_count": null,
      "outputs": [
        {
          "output_type": "execute_result",
          "data": {
            "text/plain": [
              "-3.5"
            ]
          },
          "metadata": {},
          "execution_count": 3
        }
      ]
    },
    {
      "cell_type": "code",
      "source": [
        "x = 3.14e3  # 3.14 * 10^(+3)\n",
        "y = 3.24e-3 # 3.14 * 10^(-3)\n",
        "print(x)\n",
        "print(y)"
      ],
      "metadata": {
        "colab": {
          "base_uri": "https://localhost:8080/"
        },
        "id": "yX4H56B9v6Mb",
        "outputId": "a3a2a344-b1f6-49f6-d7a9-0a2b0bd4b2f4"
      },
      "execution_count": null,
      "outputs": [
        {
          "output_type": "stream",
          "name": "stdout",
          "text": [
            "3140.0\n",
            "0.00324\n"
          ]
        }
      ]
    },
    {
      "cell_type": "code",
      "source": [
        "x = 3\n",
        "y = 5\n",
        "\n",
        "print(x ** y) # 3^5 -> x를 y번 곱한 값\n",
        "print(x // y) # x를 y로 나눈 몫\n",
        "print(x % y) # x를 y로 나눈 나머지"
      ],
      "metadata": {
        "colab": {
          "base_uri": "https://localhost:8080/"
        },
        "id": "zZyyu03bwAAS",
        "outputId": "053dfe62-56a4-40d2-d22b-b6948fe309ef"
      },
      "execution_count": null,
      "outputs": [
        {
          "output_type": "stream",
          "name": "stdout",
          "text": [
            "243\n",
            "0\n",
            "3\n"
          ]
        }
      ]
    },
    {
      "cell_type": "code",
      "source": [
        "# 문자형(String)\n",
        "# 작은 따옴표('') 또는 쌍따옴표(\"\")로 감싸져 있는 형태 -> 코딩 스타일은 일반적으로 Python coding convention에 따른다. https://peps.python.org/pep-0008/ , https://google.github.io/styleguide/pyguide.html\n",
        "\n",
        "# 문자열 indexing & slicing\n",
        "txt = \"Hello python!\"\n",
        "\n",
        "txt[0]  # indexing. 문자열 데이터는 파이썬에서 각각의 문자에 대하여 위치값을 준다.\n",
        "txt[7]\n",
        "txt[0:4] # slicing 0 <= txt < 4\n",
        "txt[0:4] # slicing 0 <= txt < 4\n",
        "txt[0:4] # slicing 0 <= txt < 4\n",
        "txt[0:4] # slicing 0 <= txt < 4\n",
        "txt[0:4] # slicing 0 <= txt < 4 alt + shift + 아래화살표 누르면 코드 한줄이 아래에 복사됨\n",
        "txt[0:4] # slicing 0 <= txt < 4\n",
        "txt[0:4] # slicing 0 <= txt < 4"
      ],
      "metadata": {
        "colab": {
          "base_uri": "https://localhost:8080/",
          "height": 35
        },
        "id": "JGTuN3-FwjWD",
        "outputId": "351efbca-e7a8-48b6-e7cc-d2a6feb46937"
      },
      "execution_count": null,
      "outputs": [
        {
          "output_type": "execute_result",
          "data": {
            "text/plain": [
              "'Hell'"
            ],
            "application/vnd.google.colaboratory.intrinsic+json": {
              "type": "string"
            }
          },
          "metadata": {},
          "execution_count": 15
        }
      ]
    },
    {
      "cell_type": "code",
      "source": [
        "# Q. \"TitanicJames\" 변수를 영화제목(title)과 감독(director)로 슬라이싱(slicing) 해보세요.\n",
        "\n",
        "a = 'TitanicJames'\n",
        "\n",
        "title = a[:7]\n",
        "director = a[7:]\n",
        "print(title)\n",
        "print(director)"
      ],
      "metadata": {
        "colab": {
          "base_uri": "https://localhost:8080/"
        },
        "id": "_N_HodvJwpXE",
        "outputId": "9836754e-2eb8-4729-8585-4bd8f3f73c70"
      },
      "execution_count": null,
      "outputs": [
        {
          "output_type": "stream",
          "name": "stdout",
          "text": [
            "Titanic\n",
            "James\n"
          ]
        }
      ]
    },
    {
      "cell_type": "code",
      "source": [
        "# 문자열 포매팅(formatting) -\n",
        "#  - 문자를 출력하는 다양한 방법\n",
        "\n",
        "name = 'inseop'\n",
        "age = 30\n",
        "\n",
        "print(\"Name : \" + name + \",\" + \" Age : \"+ str(age))\n",
        "print(\"Name : {}, Age : {}\".format(name, age))\n",
        "print(f\"Nmae : {name}, Age : {age}\") # print(f\"\") 를 하면 따옴표 안의 중괄호{}는 변수로 인식됨. 실제 가장 많이 사용하는 문자열 출력 방식"
      ],
      "metadata": {
        "colab": {
          "base_uri": "https://localhost:8080/"
        },
        "id": "pfIcWBPIybhs",
        "outputId": "11e45d09-8697-48ab-b4ec-568fb2cc3b46"
      },
      "execution_count": null,
      "outputs": [
        {
          "output_type": "stream",
          "name": "stdout",
          "text": [
            "Name : inseop, Age : 30\n",
            "Name : inseop, Age : 30\n",
            "Nmae : inseop, Age : 30\n"
          ]
        }
      ]
    },
    {
      "cell_type": "code",
      "source": [
        "# 문자열 함수\n",
        "# - strip(), join(), split()\n",
        "\n",
        "# 1) strip() 벗겨내다\n",
        "\n",
        "a= \"      파이썬은 재밌다     \"\n",
        "type(a)\n",
        "txt = a.strip()   # 문자열 앞뒤의 여백을 제거해주는 문자열 함수\n",
        "txt"
      ],
      "metadata": {
        "colab": {
          "base_uri": "https://localhost:8080/",
          "height": 35
        },
        "id": "2Ugz8DcTzImb",
        "outputId": "77ede06c-3e3a-480c-e61e-25f4001b28fd"
      },
      "execution_count": null,
      "outputs": [
        {
          "output_type": "execute_result",
          "data": {
            "text/plain": [
              "'파이썬은 재밌다'"
            ],
            "application/vnd.google.colaboratory.intrinsic+json": {
              "type": "string"
            }
          },
          "metadata": {},
          "execution_count": 28
        }
      ]
    },
    {
      "cell_type": "code",
      "source": [
        "# 2) join()\n",
        "\n",
        "words = ['안녕', '하세요', '파이썬']\n",
        "type(words)\n",
        "sentence = \"_\".join(words) # 앞의 문자열 기준으로 리스트안의 데이터를 합쳐주는 함수\n",
        "\n",
        "# 3) split()\n",
        "sentence.split('_')   # 문자열을 '_' 기준으로 리스트로 분리해주는 함수"
      ],
      "metadata": {
        "colab": {
          "base_uri": "https://localhost:8080/"
        },
        "id": "AxOiPBo60V17",
        "outputId": "277c947a-185f-4fae-b114-2d1c7209e88e"
      },
      "execution_count": null,
      "outputs": [
        {
          "output_type": "execute_result",
          "data": {
            "text/plain": [
              "['안녕', '하세요', '파이썬']"
            ]
          },
          "metadata": {},
          "execution_count": 33
        }
      ]
    },
    {
      "cell_type": "code",
      "source": [
        "# 리스트형 (List)\n",
        "#  - 개발자들이 변수를 관리하다보니 불편하다.\n",
        "#  - 여러개의 변수를 한 곳에서 관리할 수 없을까? -> 리스트\n",
        "#  - [변수, 변수, 변수]\n",
        "\n",
        "x = ['a', 'b', 'c', ['d', 'e']]\n",
        "type(x)\n",
        "\n",
        "x[0]  # indexing\n",
        "x[:3] # slicing\n",
        "\n",
        "# 위와 같은 x 리스트의 'e' 인덱싱 하는 방법\n",
        "print(x[3][1])\n",
        "y=x[3]\n",
        "print(y[1])"
      ],
      "metadata": {
        "colab": {
          "base_uri": "https://localhost:8080/"
        },
        "id": "9Vi3jSbB0r4i",
        "outputId": "74e328d9-e127-4ba7-d090-c8c30d68e759"
      },
      "execution_count": null,
      "outputs": [
        {
          "output_type": "stream",
          "name": "stdout",
          "text": [
            "e\n",
            "e\n"
          ]
        }
      ]
    },
    {
      "cell_type": "code",
      "source": [
        "fruits = ['사과', '바나나', '체리']\n",
        "print(fruits)\n",
        "\n",
        "# append() 함수는 리턴값을 다시 변수에 담지 않아도 자동으로 해당 변수에 업데이트 된다.\n",
        "fruits.append('오렌지')\n",
        "print(fruits)\n",
        "\n",
        "removed_fruits = fruits.pop(0)\n",
        "print(fruits)\n",
        "print(removed_fruits)"
      ],
      "metadata": {
        "colab": {
          "base_uri": "https://localhost:8080/"
        },
        "id": "INCQZpNP1trL",
        "outputId": "071fddb9-7963-477c-d2fb-dcaf47362fd8"
      },
      "execution_count": null,
      "outputs": [
        {
          "output_type": "stream",
          "name": "stdout",
          "text": [
            "['사과', '바나나', '체리']\n",
            "['사과', '바나나', '체리', '오렌지']\n",
            "['바나나', '체리', '오렌지']\n",
            "사과\n"
          ]
        }
      ]
    },
    {
      "cell_type": "code",
      "source": [
        "ㅡnums = [10,6,100, 50, 30]\n",
        "\n",
        "# sort() 함수는 리턴 값이 없고 변수에 바로 반영됨  ex) pandas.sort_values()\n",
        "nums.sort()\n",
        "print(nums)\n"
      ],
      "metadata": {
        "colab": {
          "base_uri": "https://localhost:8080/"
        },
        "id": "IYgb8jPq6kfD",
        "outputId": "5958e1bc-1c50-47c6-cc39-4344f842af54"
      },
      "execution_count": null,
      "outputs": [
        {
          "output_type": "stream",
          "name": "stdout",
          "text": [
            "[6, 10, 30, 50, 100]\n"
          ]
        }
      ]
    },
    {
      "cell_type": "code",
      "source": [
        "# 튜플형 (tuple)\n",
        "#   - ( ) 소괄호로 감싸져있다.\n",
        "#   - 왜 만들었을까??\n",
        "#   - 특징 -> 한번 생성되면 값 변경이 불가능하다. --> 요소를 더하거나 제거하거나 수정하거나 할수 없다.\n",
        "a = (1,2,3,4,5)\n",
        "\n",
        "# a[0]= 10\n",
        "# a.append(10) 안됨\n",
        "\n",
        "#그럼 튜플을 변형할수 있는 방법이 없을까?\n",
        "# --> new 튜플 변수를 이용\n",
        "\n",
        "new_a = a + (10,)\n",
        "new_a"
      ],
      "metadata": {
        "colab": {
          "base_uri": "https://localhost:8080/"
        },
        "id": "PmN6C7IV7U2j",
        "outputId": "0d3c11e2-148a-498b-f96e-3f5d9bc35b22"
      },
      "execution_count": null,
      "outputs": [
        {
          "output_type": "execute_result",
          "data": {
            "text/plain": [
              "(1, 2, 3, 4, 5, 10)"
            ]
          },
          "metadata": {},
          "execution_count": 55
        }
      ]
    },
    {
      "cell_type": "code",
      "source": [
        "  # 딕셔너리(Dict)  => 다른 언어의 Json\n",
        "  # { } 안에 key : value ==> {key:value, ke2:value2, ..} ==> json\n",
        "  # API 라고 불리는 형태와 동일 --> FastAPI\n",
        "\n",
        "  x = {\"name\" : \"JJY\", \"age\":[30,32], \"city\": {\"지금\": \"seoul\", \"예전\": \"김포\"}}\n",
        "  # 딕셔너리에서 데이터 가져오려면 key or get함수 --> key이용하면 코딩하다 오류날 확률이 높아서 가능하면 get()이용 --> get은 오류 처리 가능\n",
        "  x['city']\n",
        "  x['age']\n",
        "\n",
        "  x.get('name', 0)  # try, except"
      ],
      "metadata": {
        "colab": {
          "base_uri": "https://localhost:8080/",
          "height": 35
        },
        "id": "KuiOV0Bm7rME",
        "outputId": "a78e84e2-92dc-48b1-99cc-39f59036fa0f"
      },
      "execution_count": null,
      "outputs": [
        {
          "output_type": "execute_result",
          "data": {
            "text/plain": [
              "'JJY'"
            ],
            "application/vnd.google.colaboratory.intrinsic+json": {
              "type": "string"
            }
          },
          "metadata": {},
          "execution_count": 62
        }
      ]
    },
    {
      "cell_type": "code",
      "source": [
        "# 딕셔너리 사용 예 --> key(), items()\n",
        "for key in x.keys():\n",
        "  print(key,x[key])\n",
        "\n",
        "# items()는 key, value 쌍의 튜플로 이루어진 리스트를 감싸고 있는 dict_items(object)를 리턴해준다.\n",
        "# 아무튼 아래 처럼 key, value로 반복문에서 사용할수 있다.\n",
        "for key, value in x.items():\n",
        "  print(key,value)\n",
        "\n",
        "print(x.items())\n",
        "print(x.items())\n",
        "type(x.items())"
      ],
      "metadata": {
        "colab": {
          "base_uri": "https://localhost:8080/"
        },
        "id": "4npqdHKJ9Ltr",
        "outputId": "2f3220b6-90ee-450b-b7ba-5c40e3b0943e"
      },
      "execution_count": null,
      "outputs": [
        {
          "output_type": "stream",
          "name": "stdout",
          "text": [
            "name mumng\n",
            "age [30, 32]\n",
            "city {'지금': 'seoul', '예전': '김포'}\n",
            "name mumng\n",
            "age [30, 32]\n",
            "city {'지금': 'seoul', '예전': '김포'}\n",
            "dict_items([('name', 'mumng'), ('age', [30, 32]), ('city', {'지금': 'seoul', '예전': '김포'})])\n"
          ]
        },
        {
          "output_type": "execute_result",
          "data": {
            "text/plain": [
              "dict_items"
            ]
          },
          "metadata": {},
          "execution_count": 74
        }
      ]
    },
    {
      "cell_type": "code",
      "source": [
        "# 딕셔너리의 특정 key의 value를 update하는 방법 -> x.update()\n",
        "new_name={'name':'mumng'}\n",
        "x.update(new_name)\n",
        "print(x)"
      ],
      "metadata": {
        "colab": {
          "base_uri": "https://localhost:8080/"
        },
        "id": "xi1NCyMK9_Wr",
        "outputId": "4a6d0b3d-d38a-4d39-f30b-b879282e4bd5"
      },
      "execution_count": null,
      "outputs": [
        {
          "output_type": "stream",
          "name": "stdout",
          "text": [
            "{'name': 'mumng', 'age': [30, 32], 'city': {'지금': 'seoul', '예전': '김포'}}\n"
          ]
        }
      ]
    },
    {
      "cell_type": "code",
      "source": [
        "# Q/A\n",
        "# ChatGPT를 이용하면 데이터 유출 리스크 있음.\n",
        "# Gemini는 성능이 좋지 않다.\n",
        "# GPT 코딩 결과 믿을 수 있나요?  --> 코드 리뷰를 해주면 좋을 것 같아. (Claude3 opus)\n",
        "# 적자나는 AI 기업 --> GPT 이용해서 개발자 비용 낮추면 수익성 개선 높아질것이다. --> 적자나는 AI기업 투자 적기일수도?\n",
        "\n",
        "# key 삭제 x.pop('name') or del x['name']\n",
        "\n",
        "x.items?  #궁금할때 물음표 사용\n",
        "\n",
        "#인공지능개발할때 사용 언어\n",
        "# Flutter, Vue, React  잡식\n",
        "\n",
        "#여러분의위치를 가져올수있습니다\n",
        "# ip수집은 불가능 ->저장X\n",
        "# gps 위치수집 X\n",
        "# 와이파이 리스트 수집 ->합법 --> 와이파이 기지국 정보(고유값이라)로 위치 대략 알수있음"
      ],
      "metadata": {
        "id": "XPqAAXLV-nBr"
      },
      "execution_count": null,
      "outputs": []
    },
    {
      "cell_type": "code",
      "source": [
        "# 집합형  (set) 잘 안쓰는 데이터형\n",
        "# 특징. (1) 순서가 없다. (2) 중복을 허용하지 않는다. -> pd.unique에서\n",
        "\n",
        "# 데이터가 중복되서 입력되도 중복제거되서 set 변수에 저장됨\n",
        "# 입력순서대로 저장됨을 보장하지 않는다.\n",
        "x = set([3,1,2,3,4,4,2,3,3,2,3,6,7])\n",
        "print(x)\n",
        "type(x)"
      ],
      "metadata": {
        "colab": {
          "base_uri": "https://localhost:8080/"
        },
        "id": "_5gsYZIZBlSE",
        "outputId": "59f19d74-ead9-452d-fceb-53321ba08a84"
      },
      "execution_count": null,
      "outputs": [
        {
          "output_type": "stream",
          "name": "stdout",
          "text": [
            "{1, 2, 3, 4, 6, 7}\n"
          ]
        },
        {
          "output_type": "execute_result",
          "data": {
            "text/plain": [
              "set"
            ]
          },
          "metadata": {},
          "execution_count": 82
        }
      ]
    },
    {
      "cell_type": "code",
      "source": [
        "# 불형 (Boolean)\n",
        "#   - True or False\n",
        "\n",
        "x = True\n",
        "print(x)\n",
        "print(type(x))\n",
        "\n",
        "print(1 < 100)  # 조건문에서 많이 활용vk"
      ],
      "metadata": {
        "colab": {
          "base_uri": "https://localhost:8080/"
        },
        "id": "EtUFU1u_AmX7",
        "outputId": "98f28935-3654-42f4-97d1-cde789663f40"
      },
      "execution_count": null,
      "outputs": [
        {
          "output_type": "stream",
          "name": "stdout",
          "text": [
            "True\n",
            "<class 'bool'>\n",
            "True\n"
          ]
        }
      ]
    },
    {
      "cell_type": "code",
      "source": [],
      "metadata": {
        "id": "ilAWg8SIEK1T"
      },
      "execution_count": null,
      "outputs": []
    }
  ]
}