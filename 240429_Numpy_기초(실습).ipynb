{
  "cells": [
    {
      "cell_type": "markdown",
      "metadata": {
        "id": "view-in-github",
        "colab_type": "text"
      },
      "source": [
        "<a href=\"https://colab.research.google.com/github/mumng/Python-note/blob/master/240429_Numpy_%EA%B8%B0%EC%B4%88(%EC%8B%A4%EC%8A%B5).ipynb\" target=\"_parent\"><img src=\"https://colab.research.google.com/assets/colab-badge.svg\" alt=\"Open In Colab\"/></a>"
      ]
    },
    {
      "cell_type": "markdown",
      "metadata": {
        "id": "kv6gH7G01Pal"
      },
      "source": [
        "## Numpy\n",
        "\n",
        "numpy, pandas, scikit -> CPU에 최적화된 라이브러리, but GPU는 전혀 지원하지 않는다.\n",
        "\n",
        "h2o.ai, cudf, cuml, RAPIDS(GPU acceleration for data science) -> GPU 연산시 사용\n"
      ]
    },
    {
      "cell_type": "markdown",
      "metadata": {
        "id": "RQWkeQgD1Pam"
      },
      "source": [
        "### 1. Numpy Array and Operation"
      ]
    },
    {
      "cell_type": "markdown",
      "metadata": {
        "id": "igGUA1oE1Pam"
      },
      "source": [
        "- numpy의 기본적인 사용법에 대해서 배워봅니다.\n",
        "\n",
        "\n",
        "- numpy에서 numpy.array를 만드는 여러가지 방법과 지원하는 연산자에 대해서 공부합니다."
      ]
    },
    {
      "cell_type": "markdown",
      "metadata": {
        "id": "ZzPzxgQ53PcS"
      },
      "source": [
        "### 1.1. Numpy Array creation"
      ]
    },
    {
      "cell_type": "code",
      "execution_count": 9,
      "metadata": {
        "id": "MoD6QOXY1Pan"
      },
      "outputs": [],
      "source": [
        "# numpy 라이브러리를 불러옵니다.\n",
        "\n",
        "import numpy as np"
      ]
    },
    {
      "cell_type": "code",
      "execution_count": 10,
      "metadata": {
        "id": "bqVEQaBP1Pan"
      },
      "outputs": [],
      "source": [
        "# 파이썬 리스트 선언\n",
        "data = [1,2,3,4]"
      ]
    },
    {
      "cell_type": "code",
      "execution_count": 11,
      "metadata": {
        "id": "jADukVLG1Pan"
      },
      "outputs": [],
      "source": [
        "# 파이썬 2차원 리스트(행렬) 선언\n",
        "data2 = [[1,2],[3,4]]"
      ]
    },
    {
      "cell_type": "code",
      "execution_count": 12,
      "metadata": {
        "id": "jQq60ZfX1Pan",
        "colab": {
          "base_uri": "https://localhost:8080/"
        },
        "outputId": "e1c8d139-bc08-4a42-e677-4611c7171eb1"
      },
      "outputs": [
        {
          "output_type": "execute_result",
          "data": {
            "text/plain": [
              "array([1, 2, 3, 4])"
            ]
          },
          "metadata": {},
          "execution_count": 12
        }
      ],
      "source": [
        "# 파이썬 list를 numpy array로 변환합니다.\n",
        "\n",
        "# numpy array를 만드는 방식의 대부분은 파이썬 리스트를 np.array로 변환하는 방식입니다.\n",
        "\n",
        "np.array(data)"
      ]
    },
    {
      "cell_type": "code",
      "execution_count": 20,
      "metadata": {
        "id": "eqbxPjfu1Pao",
        "colab": {
          "base_uri": "https://localhost:8080/"
        },
        "outputId": "cb796e3c-5af1-462d-8844-317e15cfa4c5"
      },
      "outputs": [
        {
          "output_type": "execute_result",
          "data": {
            "text/plain": [
              "(2, 2)"
            ]
          },
          "metadata": {},
          "execution_count": 20
        }
      ],
      "source": [
        "# 2차원 리스트를 np.array로 만듭니다.\n",
        "arr2 = np.array(data2) # data2라는 리스트를 numpy array로 만들어라.\n",
        "arr2.shape"
      ]
    },
    {
      "cell_type": "code",
      "execution_count": 34,
      "metadata": {
        "id": "oMdYjtc21Pao",
        "colab": {
          "base_uri": "https://localhost:8080/"
        },
        "outputId": "1dfb0f8a-f3ac-48f1-8c67-7f2e11900c78"
      },
      "outputs": [
        {
          "output_type": "stream",
          "name": "stdout",
          "text": [
            "[0 1 2 3 4 5 6 7 8 9]\n"
          ]
        },
        {
          "output_type": "execute_result",
          "data": {
            "text/plain": [
              "array([[-0.92014444,  0.57888877, -0.91194579],\n",
              "       [ 0.46901213,  0.08235037, -1.76026521],\n",
              "       [ 0.07231647,  0.63325178,  0.21193416],\n",
              "       [ 1.13169395,  0.28927482, -1.02641971],\n",
              "       [-0.94652721,  0.32962378,  0.20056021]])"
            ]
          },
          "metadata": {},
          "execution_count": 34
        }
      ],
      "source": [
        "# 0부터 9까지 숫자를 자동으로 생성한 array\n",
        "print(np.arange(0,10)) # (10,) -> 원소 10개짜리 1차원 array\n",
        "np.zeros(shape=(5,3)) # 5 x 3 2차원 array를 생성하고 값을 모두 0으로\n",
        "np.linspace(0, 1, 10)  # [start, stop]의 구간을 10개의 균등한 구간으로 잘라서 각 원소로 이뤄진 1차원 numpy array 생성\n",
        "np.random.randn(5,3) # 5 x 3 numpy array를 만들고, 각 원소는 표준정규분포에서 sampling"
      ]
    },
    {
      "cell_type": "code",
      "execution_count": null,
      "metadata": {
        "id": "NwMSPz0Z1Pao"
      },
      "outputs": [],
      "source": [
        "# 10부터 99까지 숫자를 자동으로 생성한 array\n"
      ]
    },
    {
      "cell_type": "markdown",
      "metadata": {
        "id": "UFFwSitw1Pao"
      },
      "source": [
        "### 1.2. Reshaping array"
      ]
    },
    {
      "cell_type": "code",
      "execution_count": null,
      "metadata": {
        "id": "-vcHHFl81Pao"
      },
      "outputs": [],
      "source": [
        "# 3 x 3 행렬을 만들어봅시다.\n",
        "# 1차원 : vector\n",
        "# 2차원 : matrix\n",
        "# 3차원이상 : tensor\n",
        "# shape()은 가장 바깥 괄호부터 원소의 개수를 순차적으로 지정함\n",
        "x = np.zeros(shape=(5,))\n",
        "x = np.zeros(shape=(5,3))\n",
        "x = np.zeros(shape=(5,3,4))  # 5개의 3x4 matrix\n",
        "x = np.zeros(shape=(32,3,224,224)) # 사용예: 224 x 224크기의 3개(RGB)의 channel을 가지고 있는 이미지가 32개\n",
        "x"
      ]
    },
    {
      "cell_type": "code",
      "execution_count": null,
      "metadata": {
        "id": "HChX3Sv91Pao"
      },
      "outputs": [],
      "source": [
        "# reshape을 이용하여 만들어봅시다.\n",
        "x = np.arange(1, 10).reshape(9, 1) # 1~10으로 이루어진 9개 원소의 numpy array를 reshape()을 이용하여 9x1 matrix(column형태)로 변형\n",
        "y = np.arange(1, 10).reshape(9,) # 1차원 vector\n",
        "z = np.arange(1,121).reshape(8,-1)  # 첫 번째 인수인 8은 새로운 배열이 8개의 행을 가져야 함을 의미, 두 번째 인수인 -1은 NumPy에게 나머지 차원(열의 수)을 자동으로 계산하게 함\n",
        "print(x)\n",
        "print(y)\n",
        "print(z)"
      ]
    },
    {
      "cell_type": "code",
      "execution_count": null,
      "metadata": {
        "id": "jKHQRaFx5QFT"
      },
      "outputs": [],
      "source": [
        "# row vector를 column vector로\n"
      ]
    },
    {
      "cell_type": "code",
      "execution_count": null,
      "metadata": {
        "id": "Jre4TnZT5YwK"
      },
      "outputs": [],
      "source": [
        "# 펼치기\n"
      ]
    },
    {
      "cell_type": "markdown",
      "metadata": {
        "id": "MMrKtZy-1Pao"
      },
      "source": [
        "### 1.3. Concatenation of arrays"
      ]
    },
    {
      "cell_type": "code",
      "execution_count": 40,
      "metadata": {
        "id": "6g1bOHDn1Pao",
        "colab": {
          "base_uri": "https://localhost:8080/"
        },
        "outputId": "3996851e-0a1a-4ea1-f735-e4fd4a854b51"
      },
      "outputs": [
        {
          "output_type": "execute_result",
          "data": {
            "text/plain": [
              "array([5, 7, 9])"
            ]
          },
          "metadata": {},
          "execution_count": 40
        }
      ],
      "source": [
        "arr1 = np.array([1, 2, 3])\n",
        "arr2 = np.array([4, 5, 6])\n",
        "# arr1 + arr2 = ?\n",
        "\n",
        "# arr1와 arr2를 합칩니다\n",
        "arr1 + arr2"
      ]
    },
    {
      "cell_type": "code",
      "execution_count": 41,
      "metadata": {
        "id": "ePV80Pwx1Pao",
        "colab": {
          "base_uri": "https://localhost:8080/"
        },
        "outputId": "1af8a8d4-51b5-4799-8c46-89ae80da99f3"
      },
      "outputs": [
        {
          "output_type": "execute_result",
          "data": {
            "text/plain": [
              "array([[1, 2, 3],\n",
              "       [4, 5, 6]])"
            ]
          },
          "metadata": {},
          "execution_count": 41
        }
      ],
      "source": [
        "# stacking vertically\n",
        "np.vstack((arr1, arr2))"
      ]
    },
    {
      "cell_type": "code",
      "execution_count": 42,
      "metadata": {
        "id": "xcY9pR2M1Pap",
        "colab": {
          "base_uri": "https://localhost:8080/"
        },
        "outputId": "ee1646c8-b412-432c-fa6a-793fbabd11ce"
      },
      "outputs": [
        {
          "output_type": "execute_result",
          "data": {
            "text/plain": [
              "array([1, 2, 3, 4, 5, 6])"
            ]
          },
          "metadata": {},
          "execution_count": 42
        }
      ],
      "source": [
        "# stacking horizontally\n",
        "np.hstack((arr1, arr2))"
      ]
    },
    {
      "cell_type": "markdown",
      "metadata": {
        "id": "1Pioy4a-1Pap"
      },
      "source": [
        "## 1.4. Array Arithmetic (like vector) --> Universal Function"
      ]
    },
    {
      "cell_type": "code",
      "execution_count": 45,
      "metadata": {
        "id": "sxjF6pdh1Pap"
      },
      "outputs": [],
      "source": [
        "# v1 = (1, 2, 3), v2 = (4, 5, 6) 벡터 2개 생성하기.\n",
        "v1 = np.array((1,2,3))\n",
        "v2 = np.array((4,5,6))"
      ]
    },
    {
      "cell_type": "code",
      "execution_count": 46,
      "metadata": {
        "id": "KFKEKB711Pap",
        "colab": {
          "base_uri": "https://localhost:8080/"
        },
        "outputId": "27917f24-a300-49d0-814e-8938d843c04c"
      },
      "outputs": [
        {
          "output_type": "execute_result",
          "data": {
            "text/plain": [
              "array([5, 7, 9])"
            ]
          },
          "metadata": {},
          "execution_count": 46
        }
      ],
      "source": [
        "# 리스트로 더하기 연산해보기\n",
        "v1 + v2"
      ]
    },
    {
      "cell_type": "code",
      "execution_count": null,
      "metadata": {
        "id": "UiDh2wZX1Pap"
      },
      "outputs": [],
      "source": [
        "#  vector addition\n"
      ]
    },
    {
      "cell_type": "code",
      "execution_count": null,
      "metadata": {
        "id": "z1uh1zIW1Pap"
      },
      "outputs": [],
      "source": [
        "#  vector subtraction\n"
      ]
    },
    {
      "cell_type": "code",
      "execution_count": 47,
      "metadata": {
        "id": "Kp3n7JU91Pap",
        "colab": {
          "base_uri": "https://localhost:8080/"
        },
        "outputId": "f664adec-f5ec-4a94-d5d7-27423d2e8909"
      },
      "outputs": [
        {
          "output_type": "execute_result",
          "data": {
            "text/plain": [
              "array([ 4, 10, 18])"
            ]
          },
          "metadata": {},
          "execution_count": 47
        }
      ],
      "source": [
        "# (not vector operation) elementwise multiplication\n",
        "v1 * v2"
      ]
    },
    {
      "cell_type": "code",
      "execution_count": 48,
      "metadata": {
        "id": "WQDxd6ew1Pap",
        "colab": {
          "base_uri": "https://localhost:8080/"
        },
        "outputId": "f91b456a-b6f8-4c0c-ae84-048a4f97614c"
      },
      "outputs": [
        {
          "output_type": "execute_result",
          "data": {
            "text/plain": [
              "array([0.25, 0.4 , 0.5 ])"
            ]
          },
          "metadata": {},
          "execution_count": 48
        }
      ],
      "source": [
        "# (not vector operation) elementwise division\n",
        "v1 / v2"
      ]
    },
    {
      "cell_type": "code",
      "execution_count": 49,
      "metadata": {
        "id": "Kh9DEujN1Pap",
        "colab": {
          "base_uri": "https://localhost:8080/"
        },
        "outputId": "1df8bd12-4cea-4b1d-f655-c92687e126e3"
      },
      "outputs": [
        {
          "output_type": "execute_result",
          "data": {
            "text/plain": [
              "32"
            ]
          },
          "metadata": {},
          "execution_count": 49
        }
      ],
      "source": [
        "# dot product\n",
        "v1 @ v2"
      ]
    },
    {
      "cell_type": "markdown",
      "metadata": {
        "id": "Dp11IV1l1Pap"
      },
      "source": [
        "### 1.5. Broadcast and Universal Function"
      ]
    },
    {
      "cell_type": "markdown",
      "metadata": {
        "id": "lbGKwuWf1Pap"
      },
      "source": [
        "- 서로 크기가 다른 numpy array를 연산할 때, 자동으로 연산을 전파(broadcast)해주는 기능. 행렬곱 연산을 할 때 편리하다."
      ]
    },
    {
      "cell_type": "code",
      "execution_count": 50,
      "metadata": {
        "id": "g8pG0d-V1Paq"
      },
      "outputs": [],
      "source": [
        "arr1 = np.array([1,2,3])"
      ]
    },
    {
      "cell_type": "code",
      "execution_count": 59,
      "metadata": {
        "id": "CQDgu7vG1Paq",
        "colab": {
          "base_uri": "https://localhost:8080/"
        },
        "outputId": "2874c4e2-200a-4a9e-c0c2-f7313e6bb66c"
      },
      "outputs": [
        {
          "output_type": "execute_result",
          "data": {
            "text/plain": [
              "array([[-1, -1],\n",
              "       [-1,  1],\n",
              "       [ 1,  1]])"
            ]
          },
          "metadata": {},
          "execution_count": 59
        }
      ],
      "source": [
        "arr2 = np.array([[-1,-1,-1],\n",
        "                 [1, 1, 1]])\n",
        "arr3 = arr2.reshape(3,2)\n",
        "arr3"
      ]
    },
    {
      "cell_type": "code",
      "execution_count": null,
      "metadata": {
        "id": "-4EWUAZB1Paq"
      },
      "outputs": [],
      "source": [
        "# 2개의 array를 더해보면?\n",
        "arr1 + arr2 # (3,) + (2,3)은 shape이 맞아서 broadcasting되어 계산됨\n",
        "arr1 + arr3 # (3,) + (3,2)는 shape이 안맞아서 error\n",
        "# (5,) + (3,4,5) -> 계산 됨\n",
        "# (3,4) + (5,3,4) -> 계산 됨\n",
        "# (3,4) + (3,4,5) -> 계산 X\n",
        "# => 두 개중 작은 차원을 가진 ndarray가 큰차원을 가진 ndarray의 작은부분과 일치하면 bloadcasting 연산 가능"
      ]
    },
    {
      "cell_type": "code",
      "execution_count": 58,
      "metadata": {
        "id": "EvOolsHz1Paq",
        "colab": {
          "base_uri": "https://localhost:8080/"
        },
        "outputId": "f80ff106-b0b8-464f-bbf1-44201d6c814c"
      },
      "outputs": [
        {
          "output_type": "execute_result",
          "data": {
            "text/plain": [
              "array([[-1, -2, -3],\n",
              "       [ 1,  2,  3]])"
            ]
          },
          "metadata": {},
          "execution_count": 58
        }
      ],
      "source": [
        "# 2개의 array를 곱해보면? (**)\n",
        "arr1 * arr2"
      ]
    },
    {
      "cell_type": "code",
      "source": [],
      "metadata": {
        "id": "ticFwlgl1yhT"
      },
      "execution_count": null,
      "outputs": []
    },
    {
      "cell_type": "markdown",
      "metadata": {
        "id": "Rch_pHQW55S-"
      },
      "source": [
        "- Universal Function : broadcast 기능을 확장해서, numpy array의 모든 원소에 동일한 함수를 반복문으로 적용한 것과 같은 효과를 내는 기능."
      ]
    },
    {
      "cell_type": "code",
      "execution_count": 62,
      "metadata": {
        "id": "AeXAfqUI6H0V",
        "colab": {
          "base_uri": "https://localhost:8080/"
        },
        "outputId": "7e167c96-bd90-4102-cc0a-14a379306c2e"
      },
      "outputs": [
        {
          "output_type": "execute_result",
          "data": {
            "text/plain": [
              "array([1.        , 0.5       , 0.33333333])"
            ]
          },
          "metadata": {},
          "execution_count": 62
        }
      ],
      "source": [
        "# f = lambda x : 1/x\n",
        "arr1 / 1\n",
        "\n",
        "## Universal Function\n",
        "1/ arr1 ## 각원소를 reverse 연산 -> 이 연산의 결과는 아래와 같은 함수를 사용한 것과 동일한 결과를 준다.\n",
        "\n",
        "def reverse_num(x):\n",
        "    return 1/x\n",
        "for i in range(len(arr1)):\n",
        "    arr1[i] = reverse_num(arr1[i])"
      ]
    },
    {
      "cell_type": "code",
      "execution_count": null,
      "metadata": {
        "id": "xt20aKq21Paq"
      },
      "outputs": [],
      "source": [
        "# f = lambda x : x + 2\n"
      ]
    },
    {
      "cell_type": "markdown",
      "metadata": {
        "id": "JQ9vQmo-1Paq"
      },
      "source": [
        "### 1.6. Indexing\n"
      ]
    },
    {
      "cell_type": "code",
      "execution_count": null,
      "metadata": {
        "id": "C2U2Y3Sz1Paq"
      },
      "outputs": [],
      "source": [
        "arr1 = np.arange(10)"
      ]
    },
    {
      "cell_type": "code",
      "execution_count": null,
      "metadata": {
        "id": "5WULHYrI1Paq"
      },
      "outputs": [],
      "source": [
        "# 첫번째 원소\n"
      ]
    },
    {
      "cell_type": "code",
      "execution_count": null,
      "metadata": {
        "id": "_N-nEw7V1Paq"
      },
      "outputs": [],
      "source": [
        "# 마지막 원소\n"
      ]
    },
    {
      "cell_type": "code",
      "execution_count": null,
      "metadata": {
        "id": "wNQa8qoO1Paq"
      },
      "outputs": [],
      "source": [
        "# 앞에서부터 원소 3개 slicing\n"
      ]
    },
    {
      "cell_type": "code",
      "execution_count": null,
      "metadata": {
        "id": "29pYfFvL1Paq"
      },
      "outputs": [],
      "source": [
        "arr2 = np.array([[1, 2, 3, 4],\n",
        "               [5, 6, 7, 8],\n",
        "               [9, 10, 11, 12]])\n",
        "arr2"
      ]
    },
    {
      "cell_type": "code",
      "execution_count": null,
      "metadata": {
        "id": "p8EFXNq91Paq"
      },
      "outputs": [],
      "source": [
        "# arr2의 2row, 3column 원소 = 7\n"
      ]
    },
    {
      "cell_type": "code",
      "execution_count": null,
      "metadata": {
        "id": "OVgw4bT11Paq"
      },
      "outputs": [],
      "source": [
        "# arr2의 세번째 column [3, 7, 11]\n"
      ]
    },
    {
      "cell_type": "code",
      "execution_count": null,
      "metadata": {
        "id": "krLo7Tvg1Paq"
      },
      "outputs": [],
      "source": [
        "# arr2의 두번째 row\n"
      ]
    },
    {
      "cell_type": "markdown",
      "metadata": {
        "id": "nb3NOpgU1Par"
      },
      "source": [
        "## 2. Numpy Methods\n",
        "\n",
        "- numpy에서 사용되는 여러가지 함수들을 사용해봅시다."
      ]
    },
    {
      "cell_type": "markdown",
      "metadata": {
        "id": "wsDCnH9Q1Par"
      },
      "source": [
        "### 2.1. Math Functions"
      ]
    },
    {
      "cell_type": "code",
      "execution_count": 66,
      "metadata": {
        "id": "Pme3p6FQ1Par",
        "colab": {
          "base_uri": "https://localhost:8080/"
        },
        "outputId": "0cd01229-f1ea-4fb0-acf4-48759f538aef"
      },
      "outputs": [
        {
          "output_type": "execute_result",
          "data": {
            "text/plain": [
              "array([[ 0.49671415, -0.1382643 ,  0.64768854],\n",
              "       [ 1.52302986, -0.23415337, -0.23413696],\n",
              "       [ 1.57921282,  0.76743473, -0.46947439],\n",
              "       [ 0.54256004, -0.46341769, -0.46572975],\n",
              "       [ 0.24196227, -1.91328024, -1.72491783]])"
            ]
          },
          "metadata": {},
          "execution_count": 66
        }
      ],
      "source": [
        "# 표준정규분포에서 random sampling을 한 원소를 가지는 5x3 행렬을 만든다.\n",
        "# pseudo-random : 현재 시각(ns)\n",
        "np.random.seed(42) # set seed number -> seed() 인자 숫자를 동일하게 하면 random으로 나온 숫자가 항상 일정하다. random 값을 사용하되, 그 값을 일정하게 하고 싶을때 seed()에 특정 인자로 고정함.\n",
        "mat1 = np.random.randn(5,3) # 위에 seed()의 인자 42를 바꾸지 않는 한 일정한 무작위수 값이 나옴\n",
        "mat1"
      ]
    },
    {
      "cell_type": "code",
      "execution_count": 69,
      "metadata": {
        "id": "YnWulebZ1Par",
        "colab": {
          "base_uri": "https://localhost:8080/"
        },
        "outputId": "1c5c6fef-559e-4870-b96f-615d2c872be9"
      },
      "outputs": [
        {
          "output_type": "execute_result",
          "data": {
            "text/plain": [
              "array([[0.49671415, 0.1382643 , 0.64768854],\n",
              "       [1.52302986, 0.23415337, 0.23413696],\n",
              "       [1.57921282, 0.76743473, 0.46947439],\n",
              "       [0.54256004, 0.46341769, 0.46572975],\n",
              "       [0.24196227, 1.91328024, 1.72491783]])"
            ]
          },
          "metadata": {},
          "execution_count": 69
        }
      ],
      "source": [
        "# mat1에 절대값 씌우기\n",
        "np.abs(mat1)"
      ]
    },
    {
      "cell_type": "code",
      "execution_count": 70,
      "metadata": {
        "id": "LEt94K-t6sdK",
        "colab": {
          "base_uri": "https://localhost:8080/"
        },
        "outputId": "f6c9f4b5-7c5d-4492-e1c8-7a681b556c3a"
      },
      "outputs": [
        {
          "output_type": "stream",
          "name": "stderr",
          "text": [
            "<ipython-input-70-8386b2ce52e8>:2: RuntimeWarning: invalid value encountered in sqrt\n",
            "  np.sqrt(mat1)\n"
          ]
        },
        {
          "output_type": "execute_result",
          "data": {
            "text/plain": [
              "array([[0.70477951,        nan, 0.80479099],\n",
              "       [1.23411096,        nan,        nan],\n",
              "       [1.25666734, 0.87603352,        nan],\n",
              "       [0.73658675,        nan,        nan],\n",
              "       [0.49189661,        nan,        nan]])"
            ]
          },
          "metadata": {},
          "execution_count": 70
        }
      ],
      "source": [
        "# mat1 제곱하기\n"
      ]
    },
    {
      "cell_type": "code",
      "execution_count": 72,
      "metadata": {
        "id": "mFldaHe_6wHC",
        "colab": {
          "base_uri": "https://localhost:8080/"
        },
        "outputId": "afc25de4-4425-4713-b767-02a5d4147bbb"
      },
      "outputs": [
        {
          "output_type": "execute_result",
          "data": {
            "text/plain": [
              "array([[0.70477951+0.j        , 0.        +0.37183908j,\n",
              "        0.80479099+0.j        ],\n",
              "       [1.23411096+0.j        , 0.        +0.48389397j,\n",
              "        0.        +0.48387701j],\n",
              "       [1.25666734+0.j        , 0.87603352+0.j        ,\n",
              "        0.        +0.68518201j],\n",
              "       [0.73658675+0.j        , 0.        +0.68074789j,\n",
              "        0.        +0.68244396j],\n",
              "       [0.49189661+0.j        , 0.        +1.38321374j,\n",
              "        0.        +1.31336127j]])"
            ]
          },
          "metadata": {},
          "execution_count": 72
        }
      ],
      "source": [
        "# mat1의 제곱근 구하기\n",
        "np.sqrt(mat1.astype('complex'))"
      ]
    },
    {
      "cell_type": "code",
      "execution_count": 73,
      "metadata": {
        "id": "khqI2kwA62Ez",
        "colab": {
          "base_uri": "https://localhost:8080/"
        },
        "outputId": "0df1a6b1-b1d8-452e-88a9-47f42724335e"
      },
      "outputs": [
        {
          "output_type": "execute_result",
          "data": {
            "text/plain": [
              "EigResult(eigenvalues=array([1., 1.]), eigenvectors=array([[1., 0.],\n",
              "       [0., 1.]]))"
            ]
          },
          "metadata": {},
          "execution_count": 73
        }
      ],
      "source": [
        "# linear algebra functions\n",
        "vec = np.array([1, 2, 3])\n",
        "\n",
        "# 1. norm\n",
        "np.linalg.norm(vec)\n",
        "\n",
        "\n",
        "# 2. eigenvalue\n",
        "mat = np.array([[1, 0],\n",
        "                [0, 1]])\n",
        "np.linalg.eig(mat)"
      ]
    },
    {
      "cell_type": "markdown",
      "metadata": {
        "id": "Tk5S0yOf1Par"
      },
      "source": [
        "### 2.2. Aggregation functions"
      ]
    },
    {
      "cell_type": "code",
      "execution_count": 77,
      "metadata": {
        "id": "b0ei5LJ51Par",
        "colab": {
          "base_uri": "https://localhost:8080/"
        },
        "outputId": "bd51c2b4-7216-48c4-dddb-4a38bd5e913d"
      },
      "outputs": [
        {
          "output_type": "execute_result",
          "data": {
            "text/plain": [
              "array([[0.57290783, 0.81519505],\n",
              "       [0.92585076, 0.09358959],\n",
              "       [0.26716135, 0.96059676]])"
            ]
          },
          "metadata": {},
          "execution_count": 77
        }
      ],
      "source": [
        "np.random.seed(0xC0FFEE) ## seed()에 인자가 바뀌지 않는한 아래 random 값은 항상 유지됨\n",
        "mat2 = np.random.rand(3, 2)\n",
        "mat2"
      ]
    },
    {
      "cell_type": "code",
      "execution_count": 84,
      "metadata": {
        "id": "hMKOS5O51Par",
        "colab": {
          "base_uri": "https://localhost:8080/"
        },
        "outputId": "8380d3d2-307a-40d1-fc85-27df1ebada9e"
      },
      "outputs": [
        {
          "output_type": "stream",
          "name": "stdout",
          "text": [
            "[1.76591995 1.86938141]\n",
            "[1.38810288 1.01944035 1.22775812]\n"
          ]
        }
      ],
      "source": [
        "# Summation\n",
        "print(np.sum(mat2, axis=0)) ## axis=0 : column방향으로\n",
        "print(np.sum(mat2, axis=1)) ## axis=1 : row 방향"
      ]
    },
    {
      "cell_type": "code",
      "execution_count": 86,
      "metadata": {
        "id": "OdJZdrx_1Par",
        "colab": {
          "base_uri": "https://localhost:8080/"
        },
        "outputId": "15d26dbd-e955-4a49-8bae-4284ef91102e"
      },
      "outputs": [
        {
          "output_type": "execute_result",
          "data": {
            "text/plain": [
              "array([0.69405144, 0.50972018, 0.61387906])"
            ]
          },
          "metadata": {},
          "execution_count": 86
        }
      ],
      "source": [
        "# mean\n",
        "np.mean(mat2, axis=1)"
      ]
    },
    {
      "cell_type": "code",
      "execution_count": null,
      "metadata": {
        "id": "78xMuXMY1Par"
      },
      "outputs": [],
      "source": [
        "# std\n"
      ]
    },
    {
      "cell_type": "code",
      "execution_count": 89,
      "metadata": {
        "id": "KzfPurFc1Par",
        "colab": {
          "base_uri": "https://localhost:8080/"
        },
        "outputId": "b3be22e6-b4c1-4d69-f3b0-acdfe2dcd91a"
      },
      "outputs": [
        {
          "output_type": "stream",
          "name": "stdout",
          "text": [
            "0.09358959363758512\n",
            "[0.26716135 0.09358959]\n"
          ]
        }
      ],
      "source": [
        "# min, max\n",
        "print(np.min(mat2))\n",
        "print(np.min(mat2, axis=0))"
      ]
    },
    {
      "cell_type": "code",
      "execution_count": 90,
      "metadata": {
        "id": "YtRtiSG31Pas",
        "colab": {
          "base_uri": "https://localhost:8080/"
        },
        "outputId": "b00827ad-7f20-4370-92f7-8e357325094d"
      },
      "outputs": [
        {
          "output_type": "execute_result",
          "data": {
            "text/plain": [
              "array([2, 1])"
            ]
          },
          "metadata": {},
          "execution_count": 90
        }
      ],
      "source": [
        "# 최소값이 있는 Index\n",
        "np.argmin(mat2, axis=0) # 각 column에서 min의 index"
      ]
    },
    {
      "cell_type": "code",
      "execution_count": 91,
      "metadata": {
        "id": "0cndLCKl1Pas",
        "colab": {
          "base_uri": "https://localhost:8080/"
        },
        "outputId": "3b9a413b-c62b-4040-aa5c-d546f1f92c51"
      },
      "outputs": [
        {
          "output_type": "execute_result",
          "data": {
            "text/plain": [
              "array([1, 2])"
            ]
          },
          "metadata": {},
          "execution_count": 91
        }
      ],
      "source": [
        "# 최대값이 있는 Index\n",
        "np.argmax(mat2, axis=0)"
      ]
    },
    {
      "cell_type": "markdown",
      "source": [
        "### <numpy dtype>\n",
        "####1. int8, int16, int32, int64\n",
        "* 정수 1개를 표현하는데 사용하는 bit의 수 00000000 ~ 11111111\n",
        "\n",
        "####2. float32, float64 : 실수 1개를 표현하는데 사용하는 bit의 수\n",
        "####3. uint8, uint16"
      ],
      "metadata": {
        "id": "E9KXS-Y8UUMM"
      }
    },
    {
      "cell_type": "code",
      "source": [
        "#numpy datatype별 정수 범위\n",
        "print(f\"int8 : -{2**7} ~ {2**7 - 1}\")\n",
        "print(f\"int16 : -{2**15} ~ {2**15 - 1}\")\n",
        "print(f\"int32 : -{2**31} ~ {2**31 - 1}\")\n",
        "print(f\"int64 : -{2**63} ~ {2**63 - 1}\")"
      ],
      "metadata": {
        "colab": {
          "base_uri": "https://localhost:8080/"
        },
        "id": "JveWrXPZU2Jw",
        "outputId": "7a5b1615-5b5f-4db2-9855-d1f57f19d862"
      },
      "execution_count": 93,
      "outputs": [
        {
          "output_type": "stream",
          "name": "stdout",
          "text": [
            "int8 : -128 ~ 127\n",
            "int16 : -32768 ~ 32767\n",
            "int32 : -2147483648 ~ 2147483647\n",
            "int64 : -9223372036854775808 ~ 9223372036854775807\n"
          ]
        }
      ]
    },
    {
      "cell_type": "code",
      "execution_count": null,
      "metadata": {
        "id": "y2LVvF5b1Pas"
      },
      "outputs": [],
      "source": [
        "# 그냥 정렬 (오름차순 정렬만 지원합니다)\n"
      ]
    },
    {
      "cell_type": "code",
      "execution_count": null,
      "metadata": {
        "id": "mLeMOv7f1Pas"
      },
      "outputs": [],
      "source": [
        "# index를 정렬\n"
      ]
    },
    {
      "cell_type": "markdown",
      "metadata": {
        "id": "2a2AgVdm1Pas"
      },
      "source": [
        "## 3. \bPerformance Check"
      ]
    },
    {
      "cell_type": "markdown",
      "metadata": {
        "id": "ciO_FLLW1Pas"
      },
      "source": [
        "- Universal Function 기능을 통해 반복문을 사용한 것보다 훨씬 빠른 성능을 냅니다.\n",
        "\n",
        "\n",
        "- 직접 실험을 통해 그 차이를 확인해보겠습니다."
      ]
    },
    {
      "cell_type": "code",
      "execution_count": 97,
      "metadata": {
        "id": "oVBZX1U31Pas"
      },
      "outputs": [],
      "source": [
        "np.random.seed(0)\n",
        "\n",
        "def reverse_num(values):\n",
        "    output = np.empty(len(values))\n",
        "\n",
        "    for i in range(len(values)):\n",
        "        output[i] = 1.0 / values[i]\n",
        "\n",
        "    return output"
      ]
    },
    {
      "cell_type": "code",
      "execution_count": 100,
      "metadata": {
        "id": "aagBlNXs1Pas"
      },
      "outputs": [],
      "source": [
        "# 1부터 100까지 범위에서 1000000개를 랜덤으로 뽑아서 array를 만듭니다.\n",
        "big_array = np.random.randint(1,100,100)"
      ]
    },
    {
      "cell_type": "code",
      "execution_count": 101,
      "metadata": {
        "id": "VMyEUiVM1Pas",
        "colab": {
          "base_uri": "https://localhost:8080/"
        },
        "outputId": "0370e07e-314c-43d3-fee2-2a5b22f0f8a0"
      },
      "outputs": [
        {
          "output_type": "stream",
          "name": "stdout",
          "text": [
            "200 µs ± 37.6 µs per loop (mean ± std. dev. of 7 runs, 10000 loops each)\n"
          ]
        }
      ],
      "source": [
        "%timeit reverse_num(big_array)"
      ]
    },
    {
      "cell_type": "code",
      "execution_count": 102,
      "metadata": {
        "id": "k7PvHI7-1Pas",
        "colab": {
          "base_uri": "https://localhost:8080/"
        },
        "outputId": "ea987cba-29a3-4c71-c1f2-17e76fa80118"
      },
      "outputs": [
        {
          "output_type": "stream",
          "name": "stdout",
          "text": [
            "1.65 µs ± 331 ns per loop (mean ± std. dev. of 7 runs, 1000000 loops each)\n"
          ]
        }
      ],
      "source": [
        "%timeit 1.0 / big_array"
      ]
    },
    {
      "cell_type": "code",
      "execution_count": null,
      "metadata": {
        "id": "_11lEint1Pas"
      },
      "outputs": [],
      "source": [
        "# python for문을 이용하는 것 보다 numpy universal function을 이용하는 것이 대용량 데이터 연산할수록 속도차이가 커진다."
      ]
    }
  ],
  "metadata": {
    "colab": {
      "provenance": [],
      "include_colab_link": true
    },
    "kernelspec": {
      "display_name": "Python 3.10.5 ('fastcampus')",
      "language": "python",
      "name": "python3"
    },
    "language_info": {
      "codemirror_mode": {
        "name": "ipython",
        "version": 3
      },
      "file_extension": ".py",
      "mimetype": "text/x-python",
      "name": "python",
      "nbconvert_exporter": "python",
      "pygments_lexer": "ipython3",
      "version": "3.10.5"
    },
    "vscode": {
      "interpreter": {
        "hash": "ec0e73bc9db08b8d89387f8f6c8d25ddb5b98c92e4d4d339c361044cb7be0e6a"
      }
    }
  },
  "nbformat": 4,
  "nbformat_minor": 0
}