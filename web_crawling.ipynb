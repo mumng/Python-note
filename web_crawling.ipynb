{
 "cells": [
  {
   "cell_type": "markdown",
   "id": "3a7a9e22-4bb7-4fef-9e53-a3833b0280da",
   "metadata": {},
   "source": [
    "# Selenium 기초"
   ]
  },
  {
   "cell_type": "code",
   "execution_count": 2,
   "id": "3963fd05-669e-4a7a-94d9-bccf5194fc93",
   "metadata": {},
   "outputs": [],
   "source": [
    "# 목적 : 인터넷 상의 데이터 수집\n",
    "# librar: selenium, webdriver-manager"
   ]
  },
  {
   "cell_type": "code",
   "execution_count": 3,
   "id": "b927869c-f895-44a3-9ac3-43d20b7a8c89",
   "metadata": {
    "collapsed": true,
    "jupyter": {
     "outputs_hidden": true
    },
    "scrolled": true
   },
   "outputs": [
    {
     "name": "stdout",
     "output_type": "stream",
     "text": [
      "Collecting selenium\n",
      "  Downloading selenium-4.19.0-py3-none-any.whl.metadata (6.9 kB)\n",
      "Requirement already satisfied: urllib3<3,>=1.26 in c:\\users\\pc\\anaconda3\\lib\\site-packages (from urllib3[socks]<3,>=1.26->selenium) (2.0.7)\n",
      "Collecting trio~=0.17 (from selenium)\n",
      "  Downloading trio-0.25.0-py3-none-any.whl.metadata (8.7 kB)\n",
      "Collecting trio-websocket~=0.9 (from selenium)\n",
      "  Downloading trio_websocket-0.11.1-py3-none-any.whl.metadata (4.7 kB)\n",
      "Requirement already satisfied: certifi>=2021.10.8 in c:\\users\\pc\\anaconda3\\lib\\site-packages (from selenium) (2024.2.2)\n",
      "Requirement already satisfied: typing_extensions>=4.9.0 in c:\\users\\pc\\anaconda3\\lib\\site-packages (from selenium) (4.9.0)\n",
      "Collecting attrs>=23.2.0 (from trio~=0.17->selenium)\n",
      "  Downloading attrs-23.2.0-py3-none-any.whl.metadata (9.5 kB)\n",
      "Requirement already satisfied: sortedcontainers in c:\\users\\pc\\anaconda3\\lib\\site-packages (from trio~=0.17->selenium) (2.4.0)\n",
      "Requirement already satisfied: idna in c:\\users\\pc\\anaconda3\\lib\\site-packages (from trio~=0.17->selenium) (3.4)\n",
      "Collecting outcome (from trio~=0.17->selenium)\n",
      "  Downloading outcome-1.3.0.post0-py2.py3-none-any.whl.metadata (2.6 kB)\n",
      "Requirement already satisfied: sniffio>=1.3.0 in c:\\users\\pc\\anaconda3\\lib\\site-packages (from trio~=0.17->selenium) (1.3.0)\n",
      "Requirement already satisfied: cffi>=1.14 in c:\\users\\pc\\anaconda3\\lib\\site-packages (from trio~=0.17->selenium) (1.16.0)\n",
      "Collecting wsproto>=0.14 (from trio-websocket~=0.9->selenium)\n",
      "  Downloading wsproto-1.2.0-py3-none-any.whl.metadata (5.6 kB)\n",
      "Requirement already satisfied: pysocks!=1.5.7,<2.0,>=1.5.6 in c:\\users\\pc\\anaconda3\\lib\\site-packages (from urllib3[socks]<3,>=1.26->selenium) (1.7.1)\n",
      "Requirement already satisfied: pycparser in c:\\users\\pc\\anaconda3\\lib\\site-packages (from cffi>=1.14->trio~=0.17->selenium) (2.21)\n",
      "Collecting h11<1,>=0.9.0 (from wsproto>=0.14->trio-websocket~=0.9->selenium)\n",
      "  Downloading h11-0.14.0-py3-none-any.whl.metadata (8.2 kB)\n",
      "Downloading selenium-4.19.0-py3-none-any.whl (10.5 MB)\n",
      "   ---------------------------------------- 0.0/10.5 MB ? eta -:--:--\n",
      "   -- ------------------------------------- 0.6/10.5 MB 18.2 MB/s eta 0:00:01\n",
      "   ------ --------------------------------- 1.7/10.5 MB 21.4 MB/s eta 0:00:01\n",
      "   --------- ------------------------------ 2.4/10.5 MB 19.3 MB/s eta 0:00:01\n",
      "   ------------- -------------------------- 3.6/10.5 MB 20.9 MB/s eta 0:00:01\n",
      "   ------------------ --------------------- 4.9/10.5 MB 22.5 MB/s eta 0:00:01\n",
      "   --------------------- ------------------ 5.7/10.5 MB 21.6 MB/s eta 0:00:01\n",
      "   ------------------------- -------------- 6.7/10.5 MB 23.9 MB/s eta 0:00:01\n",
      "   ---------------------------- ----------- 7.6/10.5 MB 23.1 MB/s eta 0:00:01\n",
      "   --------------------------------- ------ 8.7/10.5 MB 23.2 MB/s eta 0:00:01\n",
      "   ------------------------------------ --- 9.6/10.5 MB 21.9 MB/s eta 0:00:01\n",
      "   ---------------------------------------  10.4/10.5 MB 22.6 MB/s eta 0:00:01\n",
      "   ---------------------------------------- 10.5/10.5 MB 21.8 MB/s eta 0:00:00\n",
      "Downloading trio-0.25.0-py3-none-any.whl (467 kB)\n",
      "   ---------------------------------------- 0.0/467.2 kB ? eta -:--:--\n",
      "   --------------------------------------- 467.2/467.2 kB 14.3 MB/s eta 0:00:00\n",
      "Downloading trio_websocket-0.11.1-py3-none-any.whl (17 kB)\n",
      "Downloading attrs-23.2.0-py3-none-any.whl (60 kB)\n",
      "   ---------------------------------------- 0.0/60.8 kB ? eta -:--:--\n",
      "   ---------------------------------------- 60.8/60.8 kB 3.2 MB/s eta 0:00:00\n",
      "Downloading wsproto-1.2.0-py3-none-any.whl (24 kB)\n",
      "Downloading outcome-1.3.0.post0-py2.py3-none-any.whl (10 kB)\n",
      "Downloading h11-0.14.0-py3-none-any.whl (58 kB)\n",
      "   ---------------------------------------- 0.0/58.3 kB ? eta -:--:--\n",
      "   ---------------------------------------- 58.3/58.3 kB 3.2 MB/s eta 0:00:00\n",
      "Installing collected packages: h11, attrs, wsproto, outcome, trio, trio-websocket, selenium\n",
      "  Attempting uninstall: attrs\n",
      "    Found existing installation: attrs 23.1.0\n",
      "    Uninstalling attrs-23.1.0:\n",
      "      Successfully uninstalled attrs-23.1.0\n",
      "Successfully installed attrs-23.2.0 h11-0.14.0 outcome-1.3.0.post0 selenium-4.19.0 trio-0.25.0 trio-websocket-0.11.1 wsproto-1.2.0\n"
     ]
    }
   ],
   "source": [
    "!pip install selenium"
   ]
  },
  {
   "cell_type": "code",
   "execution_count": 9,
   "id": "d9972f96-64a8-434b-8979-8877ca063618",
   "metadata": {
    "collapsed": true,
    "jupyter": {
     "outputs_hidden": true
    },
    "scrolled": true
   },
   "outputs": [
    {
     "name": "stdout",
     "output_type": "stream",
     "text": [
      "Requirement already satisfied: webdriver-manager in c:\\users\\pc\\anaconda3\\lib\\site-packages (4.0.1)\n",
      "Requirement already satisfied: requests in c:\\users\\pc\\anaconda3\\lib\\site-packages (from webdriver-manager) (2.31.0)\n",
      "Requirement already satisfied: python-dotenv in c:\\users\\pc\\anaconda3\\lib\\site-packages (from webdriver-manager) (0.21.0)\n",
      "Requirement already satisfied: packaging in c:\\users\\pc\\anaconda3\\lib\\site-packages (from webdriver-manager) (23.1)\n",
      "Requirement already satisfied: charset-normalizer<4,>=2 in c:\\users\\pc\\anaconda3\\lib\\site-packages (from requests->webdriver-manager) (2.0.4)\n",
      "Requirement already satisfied: idna<4,>=2.5 in c:\\users\\pc\\anaconda3\\lib\\site-packages (from requests->webdriver-manager) (3.4)\n",
      "Requirement already satisfied: urllib3<3,>=1.21.1 in c:\\users\\pc\\anaconda3\\lib\\site-packages (from requests->webdriver-manager) (2.0.7)\n",
      "Requirement already satisfied: certifi>=2017.4.17 in c:\\users\\pc\\anaconda3\\lib\\site-packages (from requests->webdriver-manager) (2024.2.2)\n"
     ]
    }
   ],
   "source": [
    "# chrome driver\n",
    "!pip install webdriver-manager "
   ]
  },
  {
   "cell_type": "code",
   "execution_count": 8,
   "id": "04d53b99-ba8d-4980-86b6-e4dccd363920",
   "metadata": {},
   "outputs": [],
   "source": [
    "from selenium import webdriver\n",
    "from webdriver_manager.chrome import ChromeDriverManager"
   ]
  },
  {
   "cell_type": "code",
   "execution_count": 12,
   "id": "f160e11f-fb0d-438a-9283-ac6bd50bf468",
   "metadata": {},
   "outputs": [
    {
     "data": {
      "text/plain": [
       "'C:\\\\Users\\\\PC\\\\.wdm\\\\drivers\\\\chromedriver\\\\win64\\\\123.0.6312.86\\\\chromedriver-win32/chromedriver.exe'"
      ]
     },
     "execution_count": 12,
     "metadata": {},
     "output_type": "execute_result"
    }
   ],
   "source": [
    "ChromeDriverManager().install()\n",
    "#내 컴퓨터에 chrome driver를 자동으로 다운받아 줍니다."
   ]
  },
  {
   "cell_type": "code",
   "execution_count": 18,
   "id": "4d9fa271-0093-47f1-8934-d13e0f28761a",
   "metadata": {},
   "outputs": [],
   "source": [
    "browser = webdriver.Chrome()"
   ]
  },
  {
   "cell_type": "code",
   "execution_count": 20,
   "id": "a75f1846-d12d-4dfd-8226-68845e6c3837",
   "metadata": {},
   "outputs": [],
   "source": [
    "# 위에서 열어놓은 크롬이 닫힌상태에서 이 코드를 실행하면 에러뜬다.\n",
    "url = 'https://www.naver.com'\n",
    "browser.get(url)  "
   ]
  },
  {
   "cell_type": "code",
   "execution_count": 21,
   "id": "6efc2b58-d832-4c74-8b7a-ee8fc198db7c",
   "metadata": {},
   "outputs": [
    {
     "data": {
      "text/plain": [
       "'NAVER'"
      ]
     },
     "execution_count": 21,
     "metadata": {},
     "output_type": "execute_result"
    }
   ],
   "source": [
    "browser.title"
   ]
  },
  {
   "cell_type": "code",
   "execution_count": 28,
   "id": "99ac1701-826b-4c37-9e24-dbff264b366a",
   "metadata": {},
   "outputs": [],
   "source": [
    "# 크롤링 하려면 요소(element)를 잘 찾아야 합니다\n",
    "from selenium.webdriver.common.by import By"
   ]
  },
  {
   "cell_type": "code",
   "execution_count": 49,
   "id": "5a0c3dda-a882-4914-85d2-dbd08a511232",
   "metadata": {},
   "outputs": [],
   "source": [
    "browser.find_element(By.CLASS_NAME, 'search_input').click()"
   ]
  },
  {
   "cell_type": "code",
   "execution_count": 50,
   "id": "45068a15-5c8a-427e-ac0a-e697ebda19fa",
   "metadata": {},
   "outputs": [],
   "source": [
    "browser.find_element(By.CLASS_NAME, 'search_input').send_keys('날씨')"
   ]
  },
  {
   "cell_type": "code",
   "execution_count": 51,
   "id": "08365ef9-6baa-4fab-964d-872114c3a8e7",
   "metadata": {
    "scrolled": true
   },
   "outputs": [],
   "source": [
    "browser.find_element(By.CLASS_NAME, 'btn_search').click()"
   ]
  },
  {
   "cell_type": "code",
   "execution_count": 52,
   "id": "cec0f40b-2994-4528-a56b-3acfafedee71",
   "metadata": {},
   "outputs": [
    {
     "data": {
      "text/plain": [
       "'17.8°'"
      ]
     },
     "execution_count": 52,
     "metadata": {},
     "output_type": "execute_result"
    }
   ],
   "source": [
    "# 하나의 데이터 가져오기 ex) 네이버 날씨 데이터\n",
    "# 원하는 정보의 클래스 명이 temperature_text 였음\n",
    "temp = browser.find_element(By.CLASS_NAME, 'temperature_text').text\n",
    "temp.split('\\n')[1]"
   ]
  },
  {
   "cell_type": "code",
   "execution_count": 53,
   "id": "f4dac553-f909-40b3-84f9-b83622ceeed7",
   "metadata": {},
   "outputs": [
    {
     "data": {
      "text/plain": [
       "['체감', '17.8°', '습도', '57%', '남동풍', '1.1m/s']"
      ]
     },
     "execution_count": 53,
     "metadata": {},
     "output_type": "execute_result"
    }
   ],
   "source": [
    "temp = browser.find_element(By.CLASS_NAME, 'summary_list').text\n",
    "temp.split(' ')"
   ]
  },
  {
   "cell_type": "code",
   "execution_count": 57,
   "id": "1ce65ad3-86d9-4e75-a7b2-5f81d875b50c",
   "metadata": {},
   "outputs": [],
   "source": [
    "# 네이버 부동산 실거래가 가져오기\n",
    "url = 'https://new.land.naver.com/complexes/108261?ms=37.6041594,126.764737,17&a=APT:ABYG:JGC:PRE&e=RETAIL'\n",
    "browser.get(url)"
   ]
  },
  {
   "cell_type": "code",
   "execution_count": 56,
   "id": "2390db8d-3dd3-4f8a-8aff-a632cbc8b9ab",
   "metadata": {},
   "outputs": [
    {
     "data": {
      "text/plain": [
       "'최근 매매 실거래가\\n6억 3,500\\n2024.03.01, 4층, 152㎡'"
      ]
     },
     "execution_count": 56,
     "metadata": {},
     "output_type": "execute_result"
    }
   ],
   "source": [
    "browser.find_element(By.CLASS_NAME, 'complex_price--trade').text"
   ]
  },
  {
   "cell_type": "code",
   "execution_count": 58,
   "id": "018d36fa-a47a-4f24-88cb-7ff637cc9c3b",
   "metadata": {},
   "outputs": [
    {
     "data": {
      "text/plain": [
       "'6억 3,500'"
      ]
     },
     "execution_count": 58,
     "metadata": {},
     "output_type": "execute_result"
    }
   ],
   "source": [
    "browser.find_element(By.CLASS_NAME, 'complex_price--trade').find_element(By.CLASS_NAME, 'data').text"
   ]
  },
  {
   "cell_type": "code",
   "execution_count": null,
   "id": "08c8f9bf-a031-4d9f-bb46-1fff0fbf24a2",
   "metadata": {},
   "outputs": [],
   "source": [
    "# 파이썬 프로젝트\n",
    "# (1) 크롤링을 통해서 정보를 수집하는 나만의 데이터 파이프라인 구축하기\n",
    "# 강사는 아마존 이용 서버 13대 돌려서 각종 정보 수집중이다\n",
    "# (금) -> 크롤링(멀티), 공공데이터 API"
   ]
  }
 ],
 "metadata": {
  "kernelspec": {
   "display_name": "Python 3 (ipykernel)",
   "language": "python",
   "name": "python3"
  },
  "language_info": {
   "codemirror_mode": {
    "name": "ipython",
    "version": 3
   },
   "file_extension": ".py",
   "mimetype": "text/x-python",
   "name": "python",
   "nbconvert_exporter": "python",
   "pygments_lexer": "ipython3",
   "version": "3.11.7"
  }
 },
 "nbformat": 4,
 "nbformat_minor": 5
}
