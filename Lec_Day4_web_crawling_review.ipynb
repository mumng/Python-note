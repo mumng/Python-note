{
 "cells": [
  {
   "cell_type": "markdown",
   "id": "41c3777e-5585-46c3-9668-a681afa5735e",
   "metadata": {},
   "source": [
    "# [Web Crawling]\n",
    "## 목적 : 인터넷 상의 데이터 수집\n",
    "## 필요한 library : selenium, webdriver-manager"
   ]
  },
  {
   "cell_type": "code",
   "execution_count": 12,
   "id": "02e49286-efa4-4066-abc3-f1f8f49486e0",
   "metadata": {
    "scrolled": true
   },
   "outputs": [
    {
     "name": "stdout",
     "output_type": "stream",
     "text": [
      "Requirement already satisfied: selenium in c:\\users\\pc\\anaconda3\\lib\\site-packages (4.19.0)\n",
      "Requirement already satisfied: urllib3<3,>=1.26 in c:\\users\\pc\\anaconda3\\lib\\site-packages (from urllib3[socks]<3,>=1.26->selenium) (2.0.7)\n",
      "Requirement already satisfied: trio~=0.17 in c:\\users\\pc\\anaconda3\\lib\\site-packages (from selenium) (0.25.0)\n",
      "Requirement already satisfied: trio-websocket~=0.9 in c:\\users\\pc\\anaconda3\\lib\\site-packages (from selenium) (0.11.1)\n",
      "Requirement already satisfied: certifi>=2021.10.8 in c:\\users\\pc\\anaconda3\\lib\\site-packages (from selenium) (2024.2.2)\n",
      "Requirement already satisfied: typing_extensions>=4.9.0 in c:\\users\\pc\\anaconda3\\lib\\site-packages (from selenium) (4.9.0)\n",
      "Requirement already satisfied: attrs>=23.2.0 in c:\\users\\pc\\anaconda3\\lib\\site-packages (from trio~=0.17->selenium) (23.2.0)\n",
      "Requirement already satisfied: sortedcontainers in c:\\users\\pc\\anaconda3\\lib\\site-packages (from trio~=0.17->selenium) (2.4.0)\n",
      "Requirement already satisfied: idna in c:\\users\\pc\\anaconda3\\lib\\site-packages (from trio~=0.17->selenium) (3.4)\n",
      "Requirement already satisfied: outcome in c:\\users\\pc\\anaconda3\\lib\\site-packages (from trio~=0.17->selenium) (1.3.0.post0)\n",
      "Requirement already satisfied: sniffio>=1.3.0 in c:\\users\\pc\\anaconda3\\lib\\site-packages (from trio~=0.17->selenium) (1.3.0)\n",
      "Requirement already satisfied: cffi>=1.14 in c:\\users\\pc\\anaconda3\\lib\\site-packages (from trio~=0.17->selenium) (1.16.0)\n",
      "Requirement already satisfied: wsproto>=0.14 in c:\\users\\pc\\anaconda3\\lib\\site-packages (from trio-websocket~=0.9->selenium) (1.2.0)\n",
      "Requirement already satisfied: pysocks!=1.5.7,<2.0,>=1.5.6 in c:\\users\\pc\\anaconda3\\lib\\site-packages (from urllib3[socks]<3,>=1.26->selenium) (1.7.1)\n",
      "Requirement already satisfied: pycparser in c:\\users\\pc\\anaconda3\\lib\\site-packages (from cffi>=1.14->trio~=0.17->selenium) (2.21)\n",
      "Requirement already satisfied: h11<1,>=0.9.0 in c:\\users\\pc\\anaconda3\\lib\\site-packages (from wsproto>=0.14->trio-websocket~=0.9->selenium) (0.14.0)\n",
      "Requirement already satisfied: webdriver-manager in c:\\users\\pc\\anaconda3\\lib\\site-packages (4.0.1)\n",
      "Requirement already satisfied: requests in c:\\users\\pc\\anaconda3\\lib\\site-packages (from webdriver-manager) (2.31.0)\n",
      "Requirement already satisfied: python-dotenv in c:\\users\\pc\\anaconda3\\lib\\site-packages (from webdriver-manager) (0.21.0)\n",
      "Requirement already satisfied: packaging in c:\\users\\pc\\anaconda3\\lib\\site-packages (from webdriver-manager) (23.1)\n",
      "Requirement already satisfied: charset-normalizer<4,>=2 in c:\\users\\pc\\anaconda3\\lib\\site-packages (from requests->webdriver-manager) (2.0.4)\n",
      "Requirement already satisfied: idna<4,>=2.5 in c:\\users\\pc\\anaconda3\\lib\\site-packages (from requests->webdriver-manager) (3.4)\n",
      "Requirement already satisfied: urllib3<3,>=1.21.1 in c:\\users\\pc\\anaconda3\\lib\\site-packages (from requests->webdriver-manager) (2.0.7)\n",
      "Requirement already satisfied: certifi>=2017.4.17 in c:\\users\\pc\\anaconda3\\lib\\site-packages (from requests->webdriver-manager) (2024.2.2)\n"
     ]
    },
    {
     "data": {
      "text/plain": [
       "'C:\\\\Users\\\\PC\\\\.wdm\\\\drivers\\\\chromedriver\\\\win64\\\\123.0.6312.105\\\\chromedriver-win32/chromedriver.exe'"
      ]
     },
     "execution_count": 12,
     "metadata": {},
     "output_type": "execute_result"
    }
   ],
   "source": [
    "########################### 파일 설치 - Start #############################\n",
    "# selenium  설치\n",
    "!pip install selenium\n",
    "\n",
    "# 컴퓨터에 chrome driver 설치위한 작업 -- 처음 한번 했으면 더 안해도 됨\n",
    "!pip install webdriver-manager\n",
    "from webdriver_manager.chrome import ChromeDriverManager  # 아래 install을 위한 임포트라서 install 한번 했으면 이 코드도 실행안해도됨\n",
    "ChromeDriverManager().install()\n",
    "########################### 파일 설치 - End #############################"
   ]
  },
  {
   "cell_type": "code",
   "execution_count": 21,
   "id": "43b1965a-cf37-4ce2-99cc-e3e230d09493",
   "metadata": {},
   "outputs": [],
   "source": [
    "########################### Import 모음 - Start #############################\n",
    "# 아래 3개 코드만 있으면 크롤링 할 수 있다.\n",
    "# selenium으로부터 webdriver 가져오기\n",
    "from selenium import webdriver\n",
    "\n",
    "# selenium의 By 클래스를 이용해 웹페이지의 element를 찾는다\n",
    "from selenium.webdriver.common.by import By\n",
    "\n",
    "# Chrome driver의 인스턴스를 생성하여 selenium이 chrome driver를 제어할수 있게 해준다.\n",
    "# chrome이 새창으로 열림\n",
    "browser = webdriver.Chrome()\n",
    "########################### Import 모음 - End #############################"
   ]
  },
  {
   "cell_type": "code",
   "execution_count": 11,
   "id": "321f5763-e50e-46c8-b027-4a8d08388501",
   "metadata": {},
   "outputs": [],
   "source": [
    "########################### Ex(1) - Start #############################\n",
    "# naver로 이동해서 검색창에 '날씨' 입력해서 검색버튼 누르기\n",
    "url = \"https://www.naver.com\"\n",
    "browser.get(url)\n",
    "browser.find_element(By.CLASS_NAME, 'search_input').click()\n",
    "browser.find_element(By.CLASS_NAME, 'search_input').send_keys('날씨')\n",
    "browser.find_element(By.CLASS_NAME, 'btn_search').click()"
   ]
  },
  {
   "cell_type": "code",
   "execution_count": 31,
   "id": "93c29c86-8ea1-4b9b-9a7a-19ad90d4f9d7",
   "metadata": {},
   "outputs": [
    {
     "data": {
      "text/plain": [
       "'현재 온도\\n12.9°'"
      ]
     },
     "execution_count": 31,
     "metadata": {},
     "output_type": "execute_result"
    }
   ],
   "source": [
    "# 웨에서 열린 페이지에서, 현재 기온 가져오기\n",
    "txt = browser.find_element(By.CLASS_NAME, 'temperature_text').text\n",
    "txt"
   ]
  },
  {
   "cell_type": "code",
   "execution_count": 38,
   "id": "154310ed-df07-46fe-9457-e31ee058024f",
   "metadata": {},
   "outputs": [
    {
     "data": {
      "text/plain": [
       "'12.9°'"
      ]
     },
     "execution_count": 38,
     "metadata": {},
     "output_type": "execute_result"
    }
   ],
   "source": [
    "# split 하기\n",
    "txt_list = txt.split('\\n')\n",
    "txt_list[1]\n",
    "########################### Ex(1) - End #############################"
   ]
  },
  {
   "cell_type": "code",
   "execution_count": 6,
   "id": "aa33297b-cec8-4962-9031-41b26c697e09",
   "metadata": {},
   "outputs": [
    {
     "data": {
      "text/plain": [
       "'6억 3,500'"
      ]
     },
     "execution_count": 6,
     "metadata": {},
     "output_type": "execute_result"
    }
   ],
   "source": [
    "########################### Ex(2) - Start #############################\n",
    "# 네이버 부동산 실거래가 가져오기\n",
    "url = 'https://new.land.naver.com/complexes/108261?ms=37.6041594,126.764737,17&a=APT:ABYG:JGC:PRE&e=RETAIL'\n",
    "browser.get(url)\n",
    "browser.find_element(By.CLASS_NAME, 'complex_price--trade').text\n",
    "browser.find_element(By.CLASS_NAME, 'complex_price--trade').find_element(By.CLASS_NAME, 'data').text\n",
    "########################### Ex(2) - End #############################"
   ]
  },
  {
   "cell_type": "code",
   "execution_count": 7,
   "id": "e49ed756-539b-4250-92d2-e29c9b752aa0",
   "metadata": {},
   "outputs": [],
   "source": [
    "# (1) 크롤링을 통해서 정보를 수집하는 나만의 데이터 파이프라인 구축하기\n",
    "# 강사님은 아마존 이용 서버 13대 돌려서 각종 정보 수집중이다\n",
    "# 강사님은 텔레그램 채널 운영해서 매각도 여러번 했다\n",
    "# 2024-04-05 (금) 파이썬 두번째 강의\n",
    "# 오늘 실습 할 내용\n",
    "# - 구글뉴스크롤링\n",
    "# - DB PIA 논문 크롤링\n",
    "# - SRT 예매 자동화\n",
    "# - 슬랙봇 연동"
   ]
  },
  {
   "cell_type": "code",
   "execution_count": 14,
   "id": "49ebb0ef-8a1b-4079-a893-6749e89df0a8",
   "metadata": {},
   "outputs": [],
   "source": [
    "# 구글 뉴스 크롤링\n",
    "url = \"https://www.google.com/search?sca_esv=76f4423ea649153a&q=%EC%9D%B8%EA%B3%B5%EC%A7%80%EB%8A%A5+%ED%97%AC%EC%8A%A4%EC%BC%80%EC%96%B4&tbm=nws&source=lnms&prmd=invsbmz&sa=X&ved=2ahUKEwjNteGw262FAxXgrlYBHfA-AIwQ0pQJegQIExAB&biw=929&bih=916&dpr=1\"\n",
    "browser.get(url)"
   ]
  },
  {
   "cell_type": "code",
   "execution_count": 19,
   "id": "2451ac6f-8b52-4bc4-b5d1-e5833431087b",
   "metadata": {
    "scrolled": true
   },
   "outputs": [
    {
     "name": "stdout",
     "output_type": "stream",
     "text": [
      "MEDI:GATE NEWS : 건강상태 측정하고 기분까지 알아주는 AI...CES 2024에서 눈에 띈 AI 헬스케어 17가지\n",
      "스마트미러에 사람이 인식되면 동작을 인식하고 음성 명령, 의도 감지를 통한 이용자의 정신건강 상태를 확인한다. 현재 상태에 따라 기분이 좋아지도록...\n",
      "2024. 1. 18.\n"
     ]
    }
   ],
   "source": [
    "print(browser.find_element(By.CLASS_NAME, \"n0jPhd\").text)\n",
    "print(browser.find_element(By.CLASS_NAME, \"GI74Re\").text)\n",
    "print(browser.find_element(By.CLASS_NAME, \"rbYSKb\").text)"
   ]
  },
  {
   "cell_type": "code",
   "execution_count": 34,
   "id": "3badce92-c607-4230-92e3-88d7641411f7",
   "metadata": {},
   "outputs": [],
   "source": [
    "# 로그인 페이지 -> 로그인\n",
    "browser = webdriver.Chrome()\n",
    "url = 'https://etk.srail.kr/cmc/01/selectLoginForm.do?pageId=TK0701000000'\n",
    "browser.get(url)\n",
    "browser.find_element(By.ID, 'srchDvCd1').click()\n",
    "browser.find_element(By.ID, 'srchDvNm01').click()\n",
    "browser.find_element(By.ID, 'srchDvNm01').send_keys('??')\n",
    "browser.find_element(By.ID, 'hmpgPwdCphd01').click()\n",
    "browser.find_element(By.ID, 'hmpgPwdCphd01').send_keys('???')\n",
    "browser.find_element(By.CLASS_NAME, 'btn_pastel2').click()"
   ]
  },
  {
   "cell_type": "code",
   "execution_count": 35,
   "id": "45900843-41d5-4511-bcd9-0e9e9178ca9c",
   "metadata": {},
   "outputs": [],
   "source": [
    "# 예약 페이지\n",
    "\n",
    "reserve_url = 'https://etk.srail.kr/hpg/hra/01/selectScheduleList.do?pageId=TK0101010000'\n",
    "browser.get(reserve_url)\n",
    "#도착역 입력\n",
    "browser.find_element(By.ID, 'arvRsStnCdNm').clear()\n",
    "browser.find_element(By.ID, 'arvRsStnCdNm').send_keys('동대구')\n",
    "\n",
    "#출발시간 선택\n",
    "browser.find_element(By.XPATH, '//*[@id=\"dptTm\"]/option[7]').click()\n",
    "\n",
    "#조회하기\n",
    "browser.find_element(By.XPATH, '//*[@id=\"search_top_tag\"]/input').click()"
   ]
  },
  {
   "cell_type": "code",
   "execution_count": 36,
   "id": "d4bdf101-9b3c-473f-9a6f-e3799cd54eb2",
   "metadata": {
    "scrolled": true
   },
   "outputs": [
    {
     "ename": "NoSuchElementException",
     "evalue": "Message: no such element: Unable to locate element: {\"method\":\"xpath\",\"selector\":\"//*[@id=\"result-form\"]/fieldset/div[6]/table/tbody/tr[1]/td[7]/a\"}\n  (Session info: chrome=123.0.6312.106); For documentation on this error, please visit: https://www.selenium.dev/documentation/webdriver/troubleshooting/errors#no-such-element-exception\nStacktrace:\n\tGetHandleVerifier [0x00007FF7EBB67072+63090]\n\t(No symbol) [0x00007FF7EBAD2CC2]\n\t(No symbol) [0x00007FF7EB96EC65]\n\t(No symbol) [0x00007FF7EB9B499D]\n\t(No symbol) [0x00007FF7EB9B4ADC]\n\t(No symbol) [0x00007FF7EB9F5B37]\n\t(No symbol) [0x00007FF7EB9D701F]\n\t(No symbol) [0x00007FF7EB9F3412]\n\t(No symbol) [0x00007FF7EB9D6D83]\n\t(No symbol) [0x00007FF7EB9A83A8]\n\t(No symbol) [0x00007FF7EB9A9441]\n\tGetHandleVerifier [0x00007FF7EBF625CD+4238285]\n\tGetHandleVerifier [0x00007FF7EBF9F72D+4488493]\n\tGetHandleVerifier [0x00007FF7EBF97A0F+4456463]\n\tGetHandleVerifier [0x00007FF7EBC405B6+953270]\n\t(No symbol) [0x00007FF7EBADE58F]\n\t(No symbol) [0x00007FF7EBAD9264]\n\t(No symbol) [0x00007FF7EBAD939B]\n\t(No symbol) [0x00007FF7EBAC9BD4]\n\tBaseThreadInitThunk [0x00007FFA8E27257D+29]\n\tRtlUserThreadStart [0x00007FFA8FD2AA58+40]\n",
     "output_type": "error",
     "traceback": [
      "\u001b[1;31m---------------------------------------------------------------------------\u001b[0m",
      "\u001b[1;31mNoSuchElementException\u001b[0m                    Traceback (most recent call last)",
      "Cell \u001b[1;32mIn[36], line 2\u001b[0m\n\u001b[0;32m      1\u001b[0m Xpath \u001b[38;5;241m=\u001b[39m \u001b[38;5;124m'\u001b[39m\u001b[38;5;124m//*[@id=\u001b[39m\u001b[38;5;124m\"\u001b[39m\u001b[38;5;124mresult-form\u001b[39m\u001b[38;5;124m\"\u001b[39m\u001b[38;5;124m]/fieldset/div[6]/table/tbody/tr[1]/td[7]/a\u001b[39m\u001b[38;5;124m'\u001b[39m\n\u001b[1;32m----> 2\u001b[0m is_soldout \u001b[38;5;241m=\u001b[39m browser\u001b[38;5;241m.\u001b[39mfind_element(By\u001b[38;5;241m.\u001b[39mXPATH,Xpath)\n\u001b[0;32m      3\u001b[0m \u001b[38;5;28mprint\u001b[39m(is_soldout)\n\u001b[0;32m      5\u001b[0m \u001b[38;5;28;01mfor\u001b[39;00m i \u001b[38;5;129;01min\u001b[39;00m \u001b[38;5;28mrange\u001b[39m(\u001b[38;5;241m10\u001b[39m):\n",
      "File \u001b[1;32m~\\anaconda3\\Lib\\site-packages\\selenium\\webdriver\\remote\\webdriver.py:741\u001b[0m, in \u001b[0;36mWebDriver.find_element\u001b[1;34m(self, by, value)\u001b[0m\n\u001b[0;32m    738\u001b[0m     by \u001b[38;5;241m=\u001b[39m By\u001b[38;5;241m.\u001b[39mCSS_SELECTOR\n\u001b[0;32m    739\u001b[0m     value \u001b[38;5;241m=\u001b[39m \u001b[38;5;124mf\u001b[39m\u001b[38;5;124m'\u001b[39m\u001b[38;5;124m[name=\u001b[39m\u001b[38;5;124m\"\u001b[39m\u001b[38;5;132;01m{\u001b[39;00mvalue\u001b[38;5;132;01m}\u001b[39;00m\u001b[38;5;124m\"\u001b[39m\u001b[38;5;124m]\u001b[39m\u001b[38;5;124m'\u001b[39m\n\u001b[1;32m--> 741\u001b[0m \u001b[38;5;28;01mreturn\u001b[39;00m \u001b[38;5;28mself\u001b[39m\u001b[38;5;241m.\u001b[39mexecute(Command\u001b[38;5;241m.\u001b[39mFIND_ELEMENT, {\u001b[38;5;124m\"\u001b[39m\u001b[38;5;124musing\u001b[39m\u001b[38;5;124m\"\u001b[39m: by, \u001b[38;5;124m\"\u001b[39m\u001b[38;5;124mvalue\u001b[39m\u001b[38;5;124m\"\u001b[39m: value})[\u001b[38;5;124m\"\u001b[39m\u001b[38;5;124mvalue\u001b[39m\u001b[38;5;124m\"\u001b[39m]\n",
      "File \u001b[1;32m~\\anaconda3\\Lib\\site-packages\\selenium\\webdriver\\remote\\webdriver.py:347\u001b[0m, in \u001b[0;36mWebDriver.execute\u001b[1;34m(self, driver_command, params)\u001b[0m\n\u001b[0;32m    345\u001b[0m response \u001b[38;5;241m=\u001b[39m \u001b[38;5;28mself\u001b[39m\u001b[38;5;241m.\u001b[39mcommand_executor\u001b[38;5;241m.\u001b[39mexecute(driver_command, params)\n\u001b[0;32m    346\u001b[0m \u001b[38;5;28;01mif\u001b[39;00m response:\n\u001b[1;32m--> 347\u001b[0m     \u001b[38;5;28mself\u001b[39m\u001b[38;5;241m.\u001b[39merror_handler\u001b[38;5;241m.\u001b[39mcheck_response(response)\n\u001b[0;32m    348\u001b[0m     response[\u001b[38;5;124m\"\u001b[39m\u001b[38;5;124mvalue\u001b[39m\u001b[38;5;124m\"\u001b[39m] \u001b[38;5;241m=\u001b[39m \u001b[38;5;28mself\u001b[39m\u001b[38;5;241m.\u001b[39m_unwrap_value(response\u001b[38;5;241m.\u001b[39mget(\u001b[38;5;124m\"\u001b[39m\u001b[38;5;124mvalue\u001b[39m\u001b[38;5;124m\"\u001b[39m, \u001b[38;5;28;01mNone\u001b[39;00m))\n\u001b[0;32m    349\u001b[0m     \u001b[38;5;28;01mreturn\u001b[39;00m response\n",
      "File \u001b[1;32m~\\anaconda3\\Lib\\site-packages\\selenium\\webdriver\\remote\\errorhandler.py:229\u001b[0m, in \u001b[0;36mErrorHandler.check_response\u001b[1;34m(self, response)\u001b[0m\n\u001b[0;32m    227\u001b[0m         alert_text \u001b[38;5;241m=\u001b[39m value[\u001b[38;5;124m\"\u001b[39m\u001b[38;5;124malert\u001b[39m\u001b[38;5;124m\"\u001b[39m]\u001b[38;5;241m.\u001b[39mget(\u001b[38;5;124m\"\u001b[39m\u001b[38;5;124mtext\u001b[39m\u001b[38;5;124m\"\u001b[39m)\n\u001b[0;32m    228\u001b[0m     \u001b[38;5;28;01mraise\u001b[39;00m exception_class(message, screen, stacktrace, alert_text)  \u001b[38;5;66;03m# type: ignore[call-arg]  # mypy is not smart enough here\u001b[39;00m\n\u001b[1;32m--> 229\u001b[0m \u001b[38;5;28;01mraise\u001b[39;00m exception_class(message, screen, stacktrace)\n",
      "\u001b[1;31mNoSuchElementException\u001b[0m: Message: no such element: Unable to locate element: {\"method\":\"xpath\",\"selector\":\"//*[@id=\"result-form\"]/fieldset/div[6]/table/tbody/tr[1]/td[7]/a\"}\n  (Session info: chrome=123.0.6312.106); For documentation on this error, please visit: https://www.selenium.dev/documentation/webdriver/troubleshooting/errors#no-such-element-exception\nStacktrace:\n\tGetHandleVerifier [0x00007FF7EBB67072+63090]\n\t(No symbol) [0x00007FF7EBAD2CC2]\n\t(No symbol) [0x00007FF7EB96EC65]\n\t(No symbol) [0x00007FF7EB9B499D]\n\t(No symbol) [0x00007FF7EB9B4ADC]\n\t(No symbol) [0x00007FF7EB9F5B37]\n\t(No symbol) [0x00007FF7EB9D701F]\n\t(No symbol) [0x00007FF7EB9F3412]\n\t(No symbol) [0x00007FF7EB9D6D83]\n\t(No symbol) [0x00007FF7EB9A83A8]\n\t(No symbol) [0x00007FF7EB9A9441]\n\tGetHandleVerifier [0x00007FF7EBF625CD+4238285]\n\tGetHandleVerifier [0x00007FF7EBF9F72D+4488493]\n\tGetHandleVerifier [0x00007FF7EBF97A0F+4456463]\n\tGetHandleVerifier [0x00007FF7EBC405B6+953270]\n\t(No symbol) [0x00007FF7EBADE58F]\n\t(No symbol) [0x00007FF7EBAD9264]\n\t(No symbol) [0x00007FF7EBAD939B]\n\t(No symbol) [0x00007FF7EBAC9BD4]\n\tBaseThreadInitThunk [0x00007FFA8E27257D+29]\n\tRtlUserThreadStart [0x00007FFA8FD2AA58+40]\n"
     ]
    }
   ],
   "source": [
    "Xpath = '//*[@id=\"result-form\"]/fieldset/div[6]/table/tbody/tr[1]/td[7]/a'\n",
    "is_soldout = browser.find_element(By.XPATH,Xpath)\n",
    "print(is_soldout)\n",
    "\n",
    "for i in range(10):\n",
    "    print(f\"{i}번째 시도중 입니다\")\n",
    "    is_soldout = browser.find_element(By.XPATH,Xpath)\n",
    "    if is_soldout.text == '매진':\n",
    "        browser.refresh()\n",
    "        time.sleep(1)\n",
    "    else:\n",
    "        browser.find_element(By.XPATH,Xpath).click()"
   ]
  },
  {
   "cell_type": "code",
   "execution_count": null,
   "id": "8a5fe339-328c-4ef8-86ce-b4197af27432",
   "metadata": {},
   "outputs": [],
   "source": []
  }
 ],
 "metadata": {
  "kernelspec": {
   "display_name": "Python 3 (ipykernel)",
   "language": "python",
   "name": "python3"
  },
  "language_info": {
   "codemirror_mode": {
    "name": "ipython",
    "version": 3
   },
   "file_extension": ".py",
   "mimetype": "text/x-python",
   "name": "python",
   "nbconvert_exporter": "python",
   "pygments_lexer": "ipython3",
   "version": "3.11.7"
  }
 },
 "nbformat": 4,
 "nbformat_minor": 5
}
