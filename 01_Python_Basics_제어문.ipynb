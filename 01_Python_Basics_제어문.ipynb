{
  "nbformat": 4,
  "nbformat_minor": 0,
  "metadata": {
    "colab": {
      "provenance": [],
      "authorship_tag": "ABX9TyMO0301MqyNiuSl2H57Gtl1",
      "include_colab_link": true
    },
    "kernelspec": {
      "name": "python3",
      "display_name": "Python 3"
    },
    "language_info": {
      "name": "python"
    }
  },
  "cells": [
    {
      "cell_type": "markdown",
      "metadata": {
        "id": "view-in-github",
        "colab_type": "text"
      },
      "source": [
        "<a href=\"https://colab.research.google.com/github/mumng/Web1/blob/master/01_Python_Basics_%EC%A0%9C%EC%96%B4%EB%AC%B8.ipynb\" target=\"_parent\"><img src=\"https://colab.research.google.com/assets/colab-badge.svg\" alt=\"Open In Colab\"/></a>"
      ]
    },
    {
      "cell_type": "code",
      "execution_count": null,
      "metadata": {
        "colab": {
          "base_uri": "https://localhost:8080/"
        },
        "id": "svllNFw9WSBI",
        "outputId": "25435169-7672-4b29-f4fe-4ccacd521d60"
      },
      "outputs": [
        {
          "output_type": "stream",
          "name": "stdout",
          "text": [
            "숫자가 10보다 큽니다\n"
          ]
        }
      ],
      "source": [
        "# 개발자는 공간적 자유를 가져갈수 있다.\n",
        "# 책 \"나는 4시간만 일한다\"\n",
        "# 배달의민족 주 4일 32시간제 작년부터 운영중\n",
        "# 3일은 놀까요?? --> No. 재테크\n",
        "# IT는 계급장 다 떼고 실력으로 승부보는 곳. 강사는 AB180에서 6개월만에 팀장급 승진\n",
        "# 네카라쿠배 본사 말고 계열사(아직 상장되지 않은 곳)으로 가라 --> 우리사주 준다.\n",
        "# 연봉으로 부자되기 쉽지않다. --> 종합소드세. 연봉 보다 주식으로 받는게 세율이 더 유리함\n",
        "# 연봉 --> 원하는 일을 하려면 연봉이 필요\n",
        "# 억대 연봉자에게 잡무를 시킬 수 있을까? --> No. 양질의 업무를 준다. 연봉 == 기대감\n",
        "# 양극화 --> 좋은 프로젝트 경험 계속 --> 연봉 높아지고 --> 좋은 프로젝트\n",
        "\n",
        "\n",
        "# 제어문\n",
        "\n",
        "# 조건문 (if)\n",
        "\n",
        "num = 100\n",
        "\n",
        "if num < 5:  # 100 < 5  의 결과는 False\n",
        "  print(\"숫자가 5보다 작습니다\")\n",
        "elif num < 10: # 100 < 10  의 결과는 False\n",
        "  print(\"숫자가 10보다 작습니다\")\n",
        "else: # 위의 조건이 모두 Flase 일때 else 문 실행됨\n",
        "  print(\"숫자가 10보다 큽니다\")"
      ]
    },
    {
      "cell_type": "code",
      "source": [
        "\n",
        "# money = input(\"현재 얼마가 있으신가요?\") # -> 입력값은 따옴표로 둘러싸여있는 문자열임\n",
        "money = int(input(\"현재 얼마가 있으신가요?\"))\n",
        "card = True\n",
        "# and(&), or(|)\n",
        "if (money == 70000) | (card == True): # python 3.9버전부터 or 대신 | 사용가능\n",
        "  print(\"비행기\")\n",
        "elif money == 50000:\n",
        "  print(\"기차\")\n",
        "elif money ==30000:\n",
        "  print(\"버스\")\n",
        "else:\n",
        "  print(\"걸어간다\")"
      ],
      "metadata": {
        "colab": {
          "base_uri": "https://localhost:8080/"
        },
        "id": "584g1aapYakr",
        "outputId": "4c34693d-1b06-45a4-ff53-7f74d092f574"
      },
      "execution_count": null,
      "outputs": [
        {
          "output_type": "stream",
          "name": "stdout",
          "text": [
            "현재 얼마가 있으신가요?2030\n",
            "비행기\n"
          ]
        }
      ]
    },
    {
      "cell_type": "code",
      "source": [
        "# 비교연산자\n",
        "\n",
        "a = 1\n",
        "b = 3\n",
        "\n",
        "a == b # False\n",
        "a != b # Ture\n",
        "\n",
        "a > b # False\n",
        "a >= b # False --> '=' 이 항상 뒤에 와야 함(안그러면 오류뜸)\n",
        "\n",
        "a < b # True\n",
        "a <= b # True  --> '=' 이 항상 뒤에 와야 함(안그러면 오류뜸)\n",
        "\n",
        "# pandas => SQL // 파이썬 코드 10줄 --> SQL 1줄로 해결 가능. AI 데이터 다루려면 SQL도 알아야 한다."
      ],
      "metadata": {
        "colab": {
          "base_uri": "https://localhost:8080/"
        },
        "id": "3khIxz-HZY5q",
        "outputId": "32e9197a-1376-4f39-8158-90835e4d18b3"
      },
      "execution_count": null,
      "outputs": [
        {
          "output_type": "execute_result",
          "data": {
            "text/plain": [
              "True"
            ]
          },
          "metadata": {},
          "execution_count": 10
        }
      ]
    },
    {
      "cell_type": "code",
      "source": [
        "# 반복문\n",
        "\n",
        "#for i in range(10):  # 0~9 까지의 숫자\n",
        "#  print(i)\n",
        "\n",
        "for i in range(2,11,2):\n",
        "  print(i)"
      ],
      "metadata": {
        "colab": {
          "base_uri": "https://localhost:8080/"
        },
        "id": "VUFEk9b8bunj",
        "outputId": "26729c58-c88e-4154-c675-81bb8b258902"
      },
      "execution_count": null,
      "outputs": [
        {
          "output_type": "stream",
          "name": "stdout",
          "text": [
            "2\n",
            "4\n",
            "6\n",
            "8\n",
            "10\n"
          ]
        }
      ]
    },
    {
      "cell_type": "code",
      "source": [
        "cities = ['seoul', 'daejeon', 'daegu', 'busan']\n",
        "\n",
        "for city in cities:  # 리스트를 이용해 반복문을 사용할때, 변수명을 리스트의 단수형으로 사용하면 가독성이 좋아진다.\n",
        "  if city == 'busan':\n",
        "    print(\"해운대에 가세요\")"
      ],
      "metadata": {
        "colab": {
          "base_uri": "https://localhost:8080/"
        },
        "id": "uFsKNTwWcRsq",
        "outputId": "33f06afb-237a-4688-af13-d122356119c5"
      },
      "execution_count": null,
      "outputs": [
        {
          "output_type": "stream",
          "name": "stdout",
          "text": [
            "해운대에 가세요\n"
          ]
        }
      ]
    },
    {
      "cell_type": "code",
      "source": [
        "for i in \"python\":\n",
        "  print(i)"
      ],
      "metadata": {
        "colab": {
          "base_uri": "https://localhost:8080/"
        },
        "id": "J3NQkEKfc8fJ",
        "outputId": "fb45cf4c-e618-4017-d48e-9a4dc8a475cc"
      },
      "execution_count": null,
      "outputs": [
        {
          "output_type": "stream",
          "name": "stdout",
          "text": [
            "p\n",
            "y\n",
            "t\n",
            "h\n",
            "o\n",
            "n\n"
          ]
        }
      ]
    },
    {
      "cell_type": "code",
      "source": [
        "for i in range(len(cities)):\n",
        "  print(i)\n",
        "else:\n",
        "  print(\"done.\")  #반복문이 끝까지 진행되서 끝날때 실행됨."
      ],
      "metadata": {
        "colab": {
          "base_uri": "https://localhost:8080/"
        },
        "id": "_ul8R0c9dcUy",
        "outputId": "bdb2396f-c83f-4540-bc75-7ed49b251214"
      },
      "execution_count": null,
      "outputs": [
        {
          "output_type": "stream",
          "name": "stdout",
          "text": [
            "0\n",
            "1\n",
            "2\n",
            "3\n",
            "done.\n"
          ]
        }
      ]
    },
    {
      "cell_type": "code",
      "source": [
        "# 반복문(while)\n",
        "a = 0\n",
        "while a < 5:\n",
        "  print(a)\n",
        "  a = a + 1  # a += 1 사용가능"
      ],
      "metadata": {
        "colab": {
          "base_uri": "https://localhost:8080/"
        },
        "id": "Z4enx_hAdnEy",
        "outputId": "d8517b37-b92c-4c77-a3d9-d8b011ffa653"
      },
      "execution_count": null,
      "outputs": [
        {
          "output_type": "stream",
          "name": "stdout",
          "text": [
            "0\n",
            "1\n",
            "2\n",
            "3\n",
            "4\n"
          ]
        }
      ]
    },
    {
      "cell_type": "code",
      "source": [
        "sum = 0\n",
        "\n",
        "for i in range(6):\n",
        "  sum += i\n",
        "print(sum)\n",
        "ㅈ\n",
        "sum = 0\n",
        "i = 0\n",
        "while i <5:\n",
        "  i+=1\n",
        "  sum += i\n",
        "  print(i, sum)"
      ],
      "metadata": {
        "colab": {
          "base_uri": "https://localhost:8080/"
        },
        "id": "JGEfxW38d1-5",
        "outputId": "c77a59d3-5792-484c-9a87-285d467c9b5d"
      },
      "execution_count": null,
      "outputs": [
        {
          "output_type": "stream",
          "name": "stdout",
          "text": [
            "15\n",
            "1 1\n",
            "2 3\n",
            "3 6\n",
            "4 10\n",
            "5 15\n"
          ]
        }
      ]
    },
    {
      "cell_type": "code",
      "source": [
        "# 제어문 -> continue, break\n",
        "\n",
        "for i in range(10):\n",
        "  if 3 <= i <= 5:\n",
        "    print(\"i : \", i)\n",
        "    break; # 반복문 종료\n",
        "  print(i)"
      ],
      "metadata": {
        "colab": {
          "base_uri": "https://localhost:8080/"
        },
        "id": "o1SUUBCNeh8R",
        "outputId": "65b791de-e93c-427f-9969-b96ab6036494"
      },
      "execution_count": null,
      "outputs": [
        {
          "output_type": "stream",
          "name": "stdout",
          "text": [
            "0\n",
            "1\n",
            "2\n",
            "i :  3\n"
          ]
        }
      ]
    },
    {
      "cell_type": "code",
      "source": [
        "for i in range(10):\n",
        "  if 3 <= i <= 5:\n",
        "    print(\"i : \", i)\n",
        "    continue; # 반복문 계속 진행되지만 아래 코드는 실행 안됨\n",
        "    print(\"continue 뒤에 출력\")\n",
        "  print(i)"
      ],
      "metadata": {
        "colab": {
          "base_uri": "https://localhost:8080/"
        },
        "id": "zZWtZM9xjwZd",
        "outputId": "03e6ff31-904e-4d8f-d250-3d958498b4cb"
      },
      "execution_count": null,
      "outputs": [
        {
          "output_type": "stream",
          "name": "stdout",
          "text": [
            "0\n",
            "1\n",
            "2\n",
            "i :  3\n",
            "i :  4\n",
            "i :  5\n",
            "6\n",
            "7\n",
            "8\n",
            "9\n"
          ]
        }
      ]
    },
    {
      "cell_type": "code",
      "source": [
        "# 문제 1\n",
        "print(\"[문제1]\")\n",
        "for i in range(2,11,2):\n",
        "  print(i)\n",
        "\n",
        "# 문제 2\n",
        "print(\"\\n\\n[문제2]\")\n",
        "indata = int(input(\"숫자입력\"))\n",
        "if indata > 0:\n",
        "  print(\"양수\")\n",
        "else:\n",
        "  print(\"음수\")\n",
        "\n",
        "# 문제 3\n",
        "print(\"\\n\\n[문제3]\")\n",
        "sum = 0\n",
        "for i in range(101):\n",
        "  if i % 15 == 0:\n",
        "    sum += i\n",
        "print(f\"3의 배수이면서 5의 배수인 숫자의 합 : {sum}\")\n",
        "\n",
        "# 문제 4\n",
        "print(\"\\n\\n[문제4]\")\n",
        "n = 5\n",
        "max = 0\n",
        "for i in range(n):\n",
        "  data = int(input(\"데이터를 입력하세요\"))\n",
        "  if max < data:\n",
        "    max = data\n",
        "  print(f\"최대값 : {max}\")\n",
        "\n",
        "# 문제 5\n",
        "print(\"\\n\\n[문제5]\")\n",
        "indata = int(input(\"숫자를 입력하세요\"))\n",
        "for i in range(10):\n",
        "  print(f\"{indata} x {i} = {indata * i}\")"
      ],
      "metadata": {
        "id": "bp5_oXpEkJ8y"
      },
      "execution_count": null,
      "outputs": []
    },
    {
      "cell_type": "code",
      "source": [
        "# 함수, 클래스\n",
        "\n",
        "def my_name(name, age):\n",
        "  print(f\"제 이름은 {name} 입니다.\")\n",
        "  print(f\"제 나이는 {age} 입니다.\")\n",
        "\n",
        "output = my_name(\"JJY\", 30)\n",
        "print(output)"
      ],
      "metadata": {
        "colab": {
          "base_uri": "https://localhost:8080/"
        },
        "id": "8OnJMmS-kmBJ",
        "outputId": "ecf73486-8437-40e0-9128-85450b6cd912"
      },
      "execution_count": null,
      "outputs": [
        {
          "output_type": "stream",
          "name": "stdout",
          "text": [
            "제 이름은 JJY 입니다.\n",
            "제 나이는 30 입니다.\n",
            "None\n"
          ]
        }
      ]
    },
    {
      "cell_type": "code",
      "source": [
        "# 파이썬 내장함수/ 외장함수\n",
        "#   - 내장함수(Built-in functions) -> 이렇게 검색하면 내장함수 리스트 나옴\n",
        "#   - 외장함수(External functions) ==> import 를 통해 모듈을 불러와서 사용\n",
        "\n",
        "a = 'python'\n",
        "b = a.upper()\n",
        "b.lower()"
      ],
      "metadata": {
        "colab": {
          "base_uri": "https://localhost:8080/",
          "height": 35
        },
        "id": "Ki3kNejWsc5n",
        "outputId": "68471d78-6c8d-465c-8b31-c5dae9369e69"
      },
      "execution_count": null,
      "outputs": [
        {
          "output_type": "execute_result",
          "data": {
            "text/plain": [
              "'python'"
            ],
            "application/vnd.google.colaboratory.intrinsic+json": {
              "type": "string"
            }
          },
          "metadata": {},
          "execution_count": 58
        }
      ]
    },
    {
      "cell_type": "code",
      "source": [
        "import random\n",
        "\n",
        "random.randint(1,10) # 1~10사이 난수 리턴\n"
      ],
      "metadata": {
        "colab": {
          "base_uri": "https://localhost:8080/"
        },
        "id": "r4xkDKXpyP_Z",
        "outputId": "035ee264-70cf-4e57-c68d-9c18a4b5a0a4"
      },
      "execution_count": null,
      "outputs": [
        {
          "output_type": "execute_result",
          "data": {
            "text/plain": [
              "5"
            ]
          },
          "metadata": {},
          "execution_count": 59
        }
      ]
    },
    {
      "cell_type": "code",
      "source": [
        "a = [6,2,3,1,7,18,323,22,9]\n",
        "random.choice(a)"
      ],
      "metadata": {
        "colab": {
          "base_uri": "https://localhost:8080/"
        },
        "id": "-ci4yPlSyjs6",
        "outputId": "9b334cd2-8b82-46dc-9e10-909f77c51821"
      },
      "execution_count": null,
      "outputs": [
        {
          "output_type": "execute_result",
          "data": {
            "text/plain": [
              "7"
            ]
          },
          "metadata": {},
          "execution_count": 60
        }
      ]
    },
    {
      "cell_type": "code",
      "source": [
        "import sys\n",
        "\n",
        "sys.version  #GCC : 컴파일러를 의미\n"
      ],
      "metadata": {
        "colab": {
          "base_uri": "https://localhost:8080/",
          "height": 35
        },
        "id": "VpUA5qEeyrR5",
        "outputId": "51476ce2-1cd3-433f-ca09-6a321944ab9b"
      },
      "execution_count": null,
      "outputs": [
        {
          "output_type": "execute_result",
          "data": {
            "text/plain": [
              "'3.10.12 (main, Nov 20 2023, 15:14:05) [GCC 11.4.0]'"
            ],
            "application/vnd.google.colaboratory.intrinsic+json": {
              "type": "string"
            }
          },
          "metadata": {},
          "execution_count": 62
        }
      ]
    },
    {
      "cell_type": "code",
      "source": [
        "import os\n",
        "\n",
        "os.getcwd() #cwd: current working directory\n",
        "os.mkdir('test_folder')"
      ],
      "metadata": {
        "colab": {
          "base_uri": "https://localhost:8080/",
          "height": 184
        },
        "id": "KIGz6h0My8kB",
        "outputId": "7f186a1f-9e41-4caf-ff53-34df8b95c4ce"
      },
      "execution_count": null,
      "outputs": [
        {
          "output_type": "error",
          "ename": "FileExistsError",
          "evalue": "[Errno 17] File exists: 'test_folder'",
          "traceback": [
            "\u001b[0;31m---------------------------------------------------------------------------\u001b[0m",
            "\u001b[0;31mFileExistsError\u001b[0m                           Traceback (most recent call last)",
            "\u001b[0;32m<ipython-input-66-43bd132f471e>\u001b[0m in \u001b[0;36m<cell line: 4>\u001b[0;34m()\u001b[0m\n\u001b[1;32m      2\u001b[0m \u001b[0;34m\u001b[0m\u001b[0m\n\u001b[1;32m      3\u001b[0m \u001b[0mos\u001b[0m\u001b[0;34m.\u001b[0m\u001b[0mgetcwd\u001b[0m\u001b[0;34m(\u001b[0m\u001b[0;34m)\u001b[0m \u001b[0;31m#cwd: current working directory\u001b[0m\u001b[0;34m\u001b[0m\u001b[0;34m\u001b[0m\u001b[0m\n\u001b[0;32m----> 4\u001b[0;31m \u001b[0mos\u001b[0m\u001b[0;34m.\u001b[0m\u001b[0mmkdir\u001b[0m\u001b[0;34m(\u001b[0m\u001b[0;34m'test_folder'\u001b[0m\u001b[0;34m)\u001b[0m\u001b[0;34m\u001b[0m\u001b[0;34m\u001b[0m\u001b[0m\n\u001b[0m",
            "\u001b[0;31mFileExistsError\u001b[0m: [Errno 17] File exists: 'test_folder'"
          ]
        }
      ]
    },
    {
      "cell_type": "code",
      "source": [
        "import time\n",
        "\n",
        "time.time() # utc기준 현재 시각을 초단위로 반환\n",
        "time.localtime(time.time())  # UTC기준 서버시간\n"
      ],
      "metadata": {
        "colab": {
          "base_uri": "https://localhost:8080/"
        },
        "id": "fyYOKVFLzU1i",
        "outputId": "28f09bc9-b8eb-42f8-bd0d-4194c61e4a5e"
      },
      "execution_count": null,
      "outputs": [
        {
          "output_type": "execute_result",
          "data": {
            "text/plain": [
              "time.struct_time(tm_year=2024, tm_mon=4, tm_mday=3, tm_hour=7, tm_min=16, tm_sec=47, tm_wday=2, tm_yday=94, tm_isdst=0)"
            ]
          },
          "metadata": {},
          "execution_count": 69
        }
      ]
    },
    {
      "cell_type": "code",
      "source": [
        "# 클래스(class)\n",
        "\n",
        "class FishBread: # 클래스만 Camel Case. 클래스에서 서로다른 단어를 붙일때는 대문자 사용  --> 함수는 소문자로만\n",
        "  # __init()__ : 초기화 = 생성자 = 클래스 호출시 가장 먼저 실행되는 메소드\n",
        "  def __init__(self, name, ingre):\n",
        "    self.name = name\n",
        "    self.ingre = ingre\n",
        "\n",
        "  def bread(self):\n",
        "    print(f\"붕어빵 이름은 {self.name}, 재료는 {self.ingre}\")\n",
        "\n",
        "redbean_bread = FishBread('팥붕어빵', '팥')\n",
        "redbean_bread.name\n",
        "redbean_bread.ingre\n",
        "redbean_bread.bread()\n",
        "\n",
        "sucream_bread = FishBread(\"슈크림 붕어빵\", \"슈크림\")\n",
        "sucream_bread.bread()"
      ],
      "metadata": {
        "colab": {
          "base_uri": "https://localhost:8080/"
        },
        "id": "SHODDke60QOC",
        "outputId": "5bed11a6-6a19-46b2-c031-48193d9009b1"
      },
      "execution_count": null,
      "outputs": [
        {
          "output_type": "stream",
          "name": "stdout",
          "text": [
            "붕어빵 이름은 팥붕어빵, 재료는 팥\n",
            "붕어빵 이름은 슈크림 붕어빵, 재료는 슈크림\n"
          ]
        }
      ]
    },
    {
      "cell_type": "code",
      "source": [
        "# 함수 -> 클래스 -> 모듈=라이브러리 -> 패키지(라이브러리)"
      ],
      "metadata": {
        "id": "T3zMNNmk2GhR"
      },
      "execution_count": null,
      "outputs": []
    }
  ]
}